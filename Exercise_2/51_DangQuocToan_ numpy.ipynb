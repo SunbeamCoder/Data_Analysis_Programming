{
 "cells": [
  {
   "cell_type": "markdown",
   "metadata": {
    "colab_type": "text",
    "id": "wDtyCjZ4yc-W"
   },
   "source": [
    "## Lab 02 - Sử dụng Thư viện NumPy làm việc với ma trận\n",
    "----\n"
   ]
  },
  {
   "cell_type": "markdown",
   "metadata": {},
   "source": [
    " # Ten: Dang Quoc Toan\n",
    " # MSSV: 20051051\n",
    " # STT: 51"
   ]
  },
  {
   "cell_type": "markdown",
   "metadata": {
    "colab_type": "text",
    "id": "eHSVABSx6gXT"
   },
   "source": [
    "## 6) TÍNH TOÁN GIÁ TRỊ CÁC PHẦN TỬ TRONG MẢNG SỬ DỤNG NUMPY\n",
    "---\n",
    "### 6.1) Các phép tính toán học"
   ]
  },
  {
   "cell_type": "code",
   "execution_count": 1,
   "metadata": {
    "colab": {
     "base_uri": "https://localhost:8080/",
     "height": 34
    },
    "colab_type": "code",
    "id": "_XnBt7NKyG7d",
    "outputId": "f3341a80-d91e-4939-93b2-5996ca159000"
   },
   "outputs": [
    {
     "name": "stdout",
     "output_type": "stream",
     "text": [
      "x     = [0 1 2 3 4 5 6 7]\n",
      "----------------------------------\n",
      "x + 5  = [ 5  6  7  8  9 10 11 12]\n",
      "x - 5  = [-5 -4 -3 -2 -1  0  1  2]\n",
      " -x    = [ 0 -1 -2 -3 -4 -5 -6 -7]\n",
      "x * 2  = [ 0  2  4  6  8 10 12 14]\n",
      "x / 2  = [0.  0.5 1.  1.5 2.  2.5 3.  3.5]\n",
      "x // 2 = [0 0 1 1 2 2 3 3]\n",
      "x % 2  = [0 1 0 1 0 1 0 1]\n",
      "x ^ 3  = [  0   1   8  27  64 125 216 343]\n"
     ]
    }
   ],
   "source": [
    "import numpy as np\n",
    "x = np.arange(8)\n",
    "print(\"x     =\", x)\n",
    "print('----------------------------------')\n",
    "#Các phép toán đã giới thiệu trong buổi 01\n",
    "print(\"x + 5  =\", x + 5)\n",
    "print(\"x - 5  =\", x - 5)\n",
    "print(\" -x    =\", -x)\n",
    "print(\"x * 2  =\", x * 2)\n",
    "print(\"x / 2  =\", x / 2)\n",
    "print(\"x // 2 =\", x // 2)\n",
    "print(\"x % 2  =\", x % 2)\n",
    "print(\"x ^ 3  =\", x**3)"
   ]
  },
  {
   "cell_type": "code",
   "execution_count": 2,
   "metadata": {},
   "outputs": [
    {
     "name": "stdout",
     "output_type": "stream",
     "text": [
      "x      = [0 1 2 3 4 5 6 7]\n",
      "---------------------------------\n",
      "x + 5  = [ 5  6  7  8  9 10 11 12]\n",
      "x - 5  = [-5 -4 -3 -2 -1  0  1  2]\n",
      "-x     = [ 0 -1 -2 -3 -4 -5 -6 -7]\n",
      "x * 2  = [ 0  2  4  6  8 10 12 14]\n",
      "x / 2  = [0.  0.5 1.  1.5 2.  2.5 3.  3.5]\n",
      "x // 2 = [0 0 1 1 2 2 3 3]\n",
      "x % 2  = [0 1 0 1 0 1 0 1]\n",
      "x ^ 3  = [  0   1   8  27  64 125 216 343]\n"
     ]
    }
   ],
   "source": [
    "print(\"x      =\", x)\n",
    "print('---------------------------------')\n",
    "#Sử dụng các phương thức của NumPy\n",
    "print(\"x + 5  =\", np.add(x,5))\n",
    "print(\"x - 5  =\", np.subtract(x, 5))\n",
    "print(\"-x     =\", np.negative(x))\n",
    "print(\"x * 2  =\", np.multiply(x,2))\n",
    "print(\"x / 2  =\", np.divide(x,2))\n",
    "print(\"x // 2 =\", np.floor_divide(x, 2))\n",
    "print(\"x % 2  =\", np.mod(x,2))\n",
    "print(\"x ^ 3  =\", np.power(x,3))"
   ]
  },
  {
   "cell_type": "markdown",
   "metadata": {},
   "source": [
    "### 6.2) Abs|Trigonometric Functions in NumPy\n",
    "---"
   ]
  },
  {
   "cell_type": "code",
   "execution_count": 3,
   "metadata": {},
   "outputs": [
    {
     "name": "stdout",
     "output_type": "stream",
     "text": [
      "[-2 -1  0  1  2]\n",
      "----------------------\n",
      "[2 1 0 1 2]\n",
      "[2 1 0 1 2]\n"
     ]
    }
   ],
   "source": [
    "x = np.array([-2, -1, 0, 1, 2])\n",
    "print(x)\n",
    "print('----------------------')\n",
    "print(np.abs(x))\n",
    "print(np.absolute(x))\n"
   ]
  },
  {
   "cell_type": "code",
   "execution_count": 4,
   "metadata": {},
   "outputs": [
    {
     "name": "stdout",
     "output_type": "stream",
     "text": [
      "theta      =  [0.         1.57079633 3.14159265]\n",
      "------------------------------------------\n",
      "sin(theta) =  [0.0000000e+00 1.0000000e+00 1.2246468e-16]\n",
      "cos(theta) =  [ 1.000000e+00  6.123234e-17 -1.000000e+00]\n",
      "tan(theta) =  [ 0.00000000e+00  1.63312394e+16 -1.22464680e-16]\n"
     ]
    }
   ],
   "source": [
    "theta = np.linspace(0, np.pi, 3)\n",
    "print(\"theta      = \", theta)\n",
    "print('------------------------------------------')\n",
    "print(\"sin(theta) = \", np.sin(theta))\n",
    "print(\"cos(theta) = \", np.cos(theta))\n",
    "print(\"tan(theta) = \", np.tan(theta))\n"
   ]
  },
  {
   "cell_type": "code",
   "execution_count": 5,
   "metadata": {},
   "outputs": [
    {
     "name": "stdout",
     "output_type": "stream",
     "text": [
      "x         =  [-1, 0, 1]\n",
      "----------------------------------\n",
      "arcsin(x) =  [-1.57079633  0.          1.57079633]\n",
      "arccos(x) =  [3.14159265 1.57079633 0.        ]\n",
      "arctan(x) =  [-0.78539816  0.          0.78539816]\n"
     ]
    }
   ],
   "source": [
    "x = [-1, 0, 1]\n",
    "print(\"x         = \", x)\n",
    "print('----------------------------------')\n",
    "print(\"arcsin(x) = \", np.arcsin(x))\n",
    "print(\"arccos(x) = \", np.arccos(x))\n",
    "print(\"arctan(x) = \", np.arctan(x))"
   ]
  },
  {
   "cell_type": "markdown",
   "metadata": {},
   "source": [
    "## 6.3) Logarithmic and Exponential Functions\n",
    "---"
   ]
  },
  {
   "cell_type": "code",
   "execution_count": 6,
   "metadata": {},
   "outputs": [
    {
     "name": "stdout",
     "output_type": "stream",
     "text": [
      "x     = [1 2 3]\n",
      "---------------------------\n",
      "e^x   = [ 2.71828183  7.3890561  20.08553692]\n",
      "2^x   = [2. 4. 8.]\n",
      "3^x   = [ 3  9 27]\n"
     ]
    }
   ],
   "source": [
    "x = np.array([1, 2, 3])\n",
    "\n",
    "print(\"x     =\", x)\n",
    "print('---------------------------')\n",
    "print(\"e^x   =\", np.exp(x))\n",
    "print(\"2^x   =\", np.exp2(x))\n",
    "print(\"3^x   =\", np.power(3, x))"
   ]
  },
  {
   "cell_type": "code",
   "execution_count": 7,
   "metadata": {},
   "outputs": [
    {
     "name": "stdout",
     "output_type": "stream",
     "text": [
      "x        = [  1   2   4 100]\n",
      "---------------------------\n",
      "ln(x)    = [0.         0.69314718 1.38629436 4.60517019]\n",
      "log2(x)  = [0.         1.         2.         6.64385619]\n",
      "log10(x) = [0.         0.30103    0.60205999 2.        ]\n"
     ]
    }
   ],
   "source": [
    "x = np.array([1, 2, 4, 100])\n",
    "\n",
    "print(\"x        =\", x)\n",
    "print('---------------------------')\n",
    "print(\"ln(x)    =\", np.log(x))\n",
    "print(\"log2(x)  =\", np.log2(x))\n",
    "print(\"log10(x) =\", np.log10(x))"
   ]
  },
  {
   "cell_type": "markdown",
   "metadata": {},
   "source": [
    "## 6.4 Rounding Functions\n",
    "---"
   ]
  },
  {
   "cell_type": "code",
   "execution_count": 8,
   "metadata": {},
   "outputs": [
    {
     "name": "stdout",
     "output_type": "stream",
     "text": [
      "[20.8999  67.89899 54.43409]\n",
      "----------------------------------\n",
      "[20.9 67.9 54.4]\n",
      "[20.9  67.9  54.43]\n",
      "[20. 67. 54.]\n",
      "[21. 68. 55.]\n"
     ]
    }
   ],
   "source": [
    "import numpy as np  \n",
    "arr = np.array([20.8999,67.89899,54.43409]) \n",
    "\n",
    "print(arr)\n",
    "print('----------------------------------')\n",
    "#1) Làm tròn tới 1 số sau dấu ,\n",
    "print(np.around(arr,1))\n",
    "\n",
    "#2)Làm tròn tới 2 số sau dấu ,\n",
    "print(np.around(arr,2))\n",
    "\n",
    "#3)Làm tròn xuống số nguyên gần nhất\n",
    "print(np.floor(arr))\n",
    "\n",
    "#4)Làm tròn lên số nguyên gần nhất\n",
    "print(np.ceil(arr))"
   ]
  },
  {
   "cell_type": "markdown",
   "metadata": {},
   "source": [
    "## 7) Sắp xếp các phần tử trong mảng\n",
    "---\n",
    "np.sort: Thực hiện sắp xếp các phần tử trong mảng theo thứ tự tăng dần (hàng, cột)"
   ]
  },
  {
   "cell_type": "code",
   "execution_count": 9,
   "metadata": {},
   "outputs": [
    {
     "name": "stdout",
     "output_type": "stream",
     "text": [
      "Vector ban đầu:\n",
      " [ 6 10  1  9 32 19  3 23  7 26  4 18 31 26  5]\n",
      "---------------------------------\n",
      "Vector sắp xếp tăng dần: \n",
      " [ 1  3  4  5  6  7  9 10 18 19 23 26 26 31 32]\n",
      "Vector sắp xếp giảm dần: \n",
      " [32 31 26 26 23 19 18 10  9  7  6  5  4  3  1]\n"
     ]
    }
   ],
   "source": [
    "#7.1) Sắp xếp các phần tử trong một vector\n",
    "a = np.random.randint(1,33,15)\n",
    "\n",
    "print('Vector ban đầu:\\n', a)\n",
    "print('---------------------------------')\n",
    "#Sắp xếp vector a tăng dần\n",
    "a_sort = np.sort(a)\n",
    "\n",
    "#Sắp xếp vector a giảm dần:\n",
    "#1) Lật vector a_sort để sắp xếp giảm dần\n",
    "b_sort = np.flip(a_sort)\n",
    "#2) sử dụng -np.sort(-x)\n",
    "b_sort = -np.sort(-a)\n",
    "print('Vector sắp xếp tăng dần: \\n',a_sort)\n",
    "\n",
    "print('Vector sắp xếp giảm dần: \\n',b_sort)"
   ]
  },
  {
   "cell_type": "code",
   "execution_count": 10,
   "metadata": {},
   "outputs": [
    {
     "name": "stdout",
     "output_type": "stream",
     "text": [
      "Vector ban đầu:\n",
      " [21 32 14 23 17 13  6 20 31 12  4 23  7 18 30]\n",
      "--------------------------\n",
      "[32 31 30 23 23 21 20 18 17 14 13 12  7  6  4]\n"
     ]
    }
   ],
   "source": [
    "#Sắp xếp các phần tử trong một vector\n",
    "a = np.random.randint(1,33,15)\n",
    "\n",
    "print('Vector ban đầu:\\n', a)\n",
    "print('--------------------------')\n",
    "b_sort = -np.sort(-a)\n",
    "print(b_sort)"
   ]
  },
  {
   "cell_type": "code",
   "execution_count": 11,
   "metadata": {},
   "outputs": [
    {
     "name": "stdout",
     "output_type": "stream",
     "text": [
      "Ma trận A:\n",
      " [[ 9 21  8  7 17 26]\n",
      " [11  1  2  9 19 27]\n",
      " [14 17 13 23  6  2]\n",
      " [27  7  4  7 10 15]\n",
      " [16 20 29 19  2 23]]\n"
     ]
    }
   ],
   "source": [
    "#7.1) Sắp xếp các phần tử trong một Ma trận\n",
    "A = np.random.randint(1,30,30).reshape(5,6)\n",
    "print('Ma trận A:\\n', A)"
   ]
  },
  {
   "cell_type": "code",
   "execution_count": 12,
   "metadata": {},
   "outputs": [
    {
     "name": "stdout",
     "output_type": "stream",
     "text": [
      "Ma trận 1:\n",
      " [[ 9  1  2  7  2  2]\n",
      " [11  7  4  7  6 15]\n",
      " [14 17  8  9 10 23]\n",
      " [16 20 13 19 17 26]\n",
      " [27 21 29 23 19 27]]\n"
     ]
    }
   ],
   "source": [
    "#1) Sắp xếp theo cột axis=0\n",
    "a_sort1 = np.sort(A,axis=0)\n",
    "print('Ma trận 1:\\n', a_sort1)"
   ]
  },
  {
   "cell_type": "code",
   "execution_count": 13,
   "metadata": {},
   "outputs": [
    {
     "name": "stdout",
     "output_type": "stream",
     "text": [
      "Ma trận 2:\n",
      " [[ 7  8  9 17 21 26]\n",
      " [ 1  2  9 11 19 27]\n",
      " [ 2  6 13 14 17 23]\n",
      " [ 4  7  7 10 15 27]\n",
      " [ 2 16 19 20 23 29]]\n"
     ]
    }
   ],
   "source": [
    "#Sắp xếp các phần tử của ma trận A\n",
    "#2) Sắp xếp theo hàng axis=1 | Default\n",
    "a_sort2 = np.sort(A,axis=1)\n",
    "print('Ma trận 2:\\n', a_sort2)"
   ]
  },
  {
   "cell_type": "code",
   "execution_count": 14,
   "metadata": {},
   "outputs": [
    {
     "name": "stdout",
     "output_type": "stream",
     "text": [
      "Vector: \n",
      " [ 1  2  2  2  4  6  7  7  7  8  9  9 10 11 13 14 15 16 17 17 19 19 20 21\n",
      " 23 23 26 27 27 29]\n"
     ]
    }
   ],
   "source": [
    "#3) Chuyển thành vector và sắp xếp các phần tử tăng dần theo hàng\n",
    "v_sort = np.sort(A,axis=None)\n",
    "print('Vector: \\n', v_sort)"
   ]
  },
  {
   "cell_type": "code",
   "execution_count": 15,
   "metadata": {},
   "outputs": [
    {
     "name": "stdout",
     "output_type": "stream",
     "text": [
      "Ma trận 3:\n",
      " [[ 1  2  2  2  4  6]\n",
      " [ 7  7  7  8  9  9]\n",
      " [10 11 13 14 15 16]\n",
      " [17 17 19 19 20 21]\n",
      " [23 23 26 27 27 29]]\n"
     ]
    }
   ],
   "source": [
    "#Sắp xếp tất cả các phần tử theo thứ tự tăng dần theo hàng\n",
    "a_sort3 = np.sort(A, axis=None).reshape(A.shape[0],A.shape[1])\n",
    "print('Ma trận 3:\\n', a_sort3)"
   ]
  },
  {
   "cell_type": "code",
   "execution_count": 16,
   "metadata": {},
   "outputs": [
    {
     "name": "stdout",
     "output_type": "stream",
     "text": [
      "Ma trận 1:\n",
      " [[ 9  1  2  7  2  2]\n",
      " [11  7  4  7  6 15]\n",
      " [14 17  8  9 10 23]\n",
      " [16 20 13 19 17 26]\n",
      " [27 21 29 23 19 27]]\n"
     ]
    }
   ],
   "source": [
    "#thuộc tính kind=‘quicksort’- Default, ‘mergesort’, ‘heapsort’, ‘stable’\n",
    "a_sort1 = np.sort(A,axis=0, kind='mergesort')\n",
    "print('Ma trận 1:\\n', a_sort1)"
   ]
  },
  {
   "cell_type": "markdown",
   "metadata": {},
   "source": [
    "## 8) Tìm kiếm các phần tử trong mảng\n",
    "---\n",
    "np.where: Thực hiện tìm kiếm các phần tử trong mảng"
   ]
  },
  {
   "cell_type": "code",
   "execution_count": 17,
   "metadata": {},
   "outputs": [
    {
     "name": "stdout",
     "output_type": "stream",
     "text": [
      "(array([3, 6, 9], dtype=int64),)\n",
      "1. Số phần tử thỏa mãn điều kiện = 1:  3\n",
      "-----------------------------------------------\n",
      "(array([ 0,  2,  5, 10, 11], dtype=int64),)\n",
      "2. Số phần tử thỏa mãn điều kiện>10:  5\n",
      "-----------------------------------------------\n",
      "(array([ 2,  4,  8, 12], dtype=int64),)\n",
      "3.Số phần tử thỏa mãn điều kiện [5,10):  4\n"
     ]
    }
   ],
   "source": [
    "import numpy as np\n",
    "x = np.array([17, 2, 11, 1, 9, 15, 1, 3, 8, 1, 12, 13, 5])\n",
    "#1) Tìm kiếm các phần tử có giá trị ==1\n",
    "t1 = np.where(x==1)\n",
    "print(t1)\n",
    "print('1. Số phần tử thỏa mãn điều kiện = 1: ', t1[0].size)\n",
    "print('-----------------------------------------------')\n",
    "#2)Tìm kiếm các phần tử có giá trị >10\n",
    "t2 = np.where(x>10)\n",
    "print(t2)\n",
    "print('2. Số phần tử thỏa mãn điều kiện>10: ', t2[0].size)\n",
    "print('-----------------------------------------------')\n",
    "#Tìm kiếm các phần tử có giá trị [5,12)\n",
    "t3 = np.where((x>=5) & (x<12))\n",
    "print(t3)\n",
    "print('3.Số phần tử thỏa mãn điều kiện [5,10): ', t3[0].size)\n"
   ]
  },
  {
   "cell_type": "code",
   "execution_count": 18,
   "metadata": {},
   "outputs": [
    {
     "name": "stdout",
     "output_type": "stream",
     "text": [
      "Ma trận A: \n",
      " [[1 2 3 4 5 4 4]\n",
      " [7 3 4 8 9 6 7]]\n",
      "----------------------------------------\n",
      "(array([0, 1, 1, 1, 1, 1], dtype=int64), array([4, 0, 3, 4, 5, 6], dtype=int64))\n",
      "Số phần tử thỏa mãn điều kiện > 4: 6\n"
     ]
    }
   ],
   "source": [
    "import numpy as np\n",
    "#Tìm kiếm trên ma trận\n",
    "arr = np.array([(1, 2, 3, 4, 5, 4, 4),\n",
    "                (7, 3, 4, 8, 9, 6, 7)])\n",
    "#Tìm kiếm phần tử > 4\n",
    "x = np.where(arr >4)\n",
    "\n",
    "print('Ma trận A: \\n',arr)\n",
    "print('----------------------------------------')\n",
    "print(x)\n",
    "print('Số phần tử thỏa mãn điều kiện > 4:',x[0].size)"
   ]
  },
  {
   "cell_type": "code",
   "execution_count": 19,
   "metadata": {},
   "outputs": [
    {
     "name": "stdout",
     "output_type": "stream",
     "text": [
      "[['F' 'F' 'F' 'F' 'T' 'F' 'F']\n",
      " ['T' 'F' 'F' 'T' 'T' 'T' 'T']]\n"
     ]
    }
   ],
   "source": [
    "#Tìm kiếm và trả về kết quả với điều kiện đúng, sai\n",
    "#Nếu Đúng thay bằng T, sai thay thế bằng F\n",
    "x = np.where(arr >4,'T','F')\n",
    "print(x)"
   ]
  },
  {
   "cell_type": "markdown",
   "metadata": {},
   "source": [
    "# THỰC HÀNH 1:\n",
    "---\n",
    "\n",
    "**Yêu cầu 1: Đọc dữ liệu từ file Data_BMI.txt vào 2 vector tương ứng**\n",
    "1. v_height: chứa dữ liệu chiều cao\n",
    "2. v_Weight: Chứa dữ liệu cân nặng\n"
   ]
  },
  {
   "cell_type": "code",
   "execution_count": 37,
   "metadata": {},
   "outputs": [
    {
     "name": "stderr",
     "output_type": "stream",
     "text": [
      "C:\\Users\\DANG QUOC TOAN\\AppData\\Local\\Temp\\ipykernel_29284\\1941206155.py:3: DeprecationWarning: `np.float` is a deprecated alias for the builtin `float`. To silence this warning, use `float` by itself. Doing this will not modify any behavior and is safe. If you specifically wanted the numpy scalar type, use `np.float64` here.\n",
      "Deprecated in NumPy 1.20; for more details and guidance: https://numpy.org/devdocs/release/1.20.0-notes.html#deprecations\n",
      "  v_height = np.loadtxt(path,usecols=0, dtype = np.float)\n",
      "C:\\Users\\DANG QUOC TOAN\\AppData\\Local\\Temp\\ipykernel_29284\\1941206155.py:4: DeprecationWarning: `np.float` is a deprecated alias for the builtin `float`. To silence this warning, use `float` by itself. Doing this will not modify any behavior and is safe. If you specifically wanted the numpy scalar type, use `np.float64` here.\n",
      "Deprecated in NumPy 1.20; for more details and guidance: https://numpy.org/devdocs/release/1.20.0-notes.html#deprecations\n",
      "  w_height = np.loadtxt(path,usecols=1,dtype = np.float)\n"
     ]
    }
   ],
   "source": [
    "# {Học viên viết code ở đây}\n",
    "path = 'D:\\GT\\Lap_Trinh_PTDL\\Data_BMI.txt'\n",
    "v_height = np.loadtxt(path,usecols=0, dtype = np.float)\n",
    "w_height = np.loadtxt(path,usecols=1,dtype = np.float)\n",
    "\n"
   ]
  },
  {
   "cell_type": "code",
   "execution_count": 38,
   "metadata": {},
   "outputs": [
    {
     "data": {
      "text/plain": [
       "(array([174., 189., 185., 195., 149., 189., 147., 154., 174., 169., 195.,\n",
       "        159., 192., 155., 191., 153., 157., 140., 144., 172., 157., 153.,\n",
       "        169., 185., 172., 151., 190., 187., 163., 179., 153., 178., 195.,\n",
       "        160., 157., 189., 197., 144., 171., 185., 175., 149., 157., 161.,\n",
       "        182., 185., 188., 181., 161., 140., 168., 176., 163., 172., 196.,\n",
       "        187., 172., 178., 164., 143., 191., 141., 193., 190., 175., 179.,\n",
       "        172., 168., 164., 194., 153., 178., 141., 180., 185., 197., 165.,\n",
       "        168., 176., 181., 164., 166., 190., 186., 168., 198., 175., 145.,\n",
       "        159., 185., 178., 183., 194., 177., 197., 170., 142., 160., 195.,\n",
       "        190.]),\n",
       " array([ 96.,  87., 110., 104.,  61., 104.,  92., 111.,  90., 103.,  81.,\n",
       "         80., 101.,  51.,  79., 107., 110., 129., 145., 139., 110., 149.,\n",
       "         97., 139.,  67.,  64.,  95.,  62., 159., 152., 121.,  52.,  65.,\n",
       "        131., 153., 132., 114.,  80., 152.,  81., 120., 108.,  56., 118.,\n",
       "        126.,  76., 122., 111.,  72., 152., 135.,  54., 110., 105., 116.,\n",
       "         89.,  92., 127.,  70.,  88.,  54., 143.,  54.,  83., 135., 158.,\n",
       "         96.,  59.,  82., 136.,  51., 117.,  80.,  75., 100., 154., 104.,\n",
       "         90., 122.,  51.,  75., 140., 105., 118., 123.,  50., 141., 117.,\n",
       "        104., 140., 154.,  96., 111.,  61., 119., 156.,  69., 139.,  69.,\n",
       "         50.]))"
      ]
     },
     "execution_count": 38,
     "metadata": {},
     "output_type": "execute_result"
    }
   ],
   "source": [
    "v_height,w_height"
   ]
  },
  {
   "cell_type": "markdown",
   "metadata": {},
   "source": [
    "**Yêu cầu 2: Tạo vector v_height_m2 từ vector v_height theo yêu cầu sau:**\n",
    "1. Chuyển đổi đơn vị của các phần tử từ cm sang m\n",
    "2. Tính bình phương giá trị các phần tử\n"
   ]
  },
  {
   "cell_type": "code",
   "execution_count": 41,
   "metadata": {},
   "outputs": [],
   "source": [
    "# {Học viên viết code ở đây}\n",
    "v_height_m2 = []\n",
    "\n",
    "for i in v_height:\n",
    "    temp = 0\n",
    "    temp = (i/100)**2\n",
    "    v_height_m2.append(temp)\n",
    "    \n",
    "\n"
   ]
  },
  {
   "cell_type": "code",
   "execution_count": 46,
   "metadata": {},
   "outputs": [
    {
     "data": {
      "text/plain": [
       "array([[3.0276, 3.5721, 3.4225, 3.8025, 2.2201, 3.5721, 2.1609, 2.3716,\n",
       "        3.0276, 2.8561, 3.8025, 2.5281, 3.6864, 2.4025, 3.6481, 2.3409,\n",
       "        2.4649, 1.96  , 2.0736, 2.9584, 2.4649, 2.3409, 2.8561, 3.4225,\n",
       "        2.9584, 2.2801, 3.61  , 3.4969, 2.6569, 3.2041, 2.3409, 3.1684,\n",
       "        3.8025, 2.56  , 2.4649, 3.5721, 3.8809, 2.0736, 2.9241, 3.4225,\n",
       "        3.0625, 2.2201, 2.4649, 2.5921, 3.3124, 3.4225, 3.5344, 3.2761,\n",
       "        2.5921, 1.96  , 2.8224, 3.0976, 2.6569, 2.9584, 3.8416, 3.4969,\n",
       "        2.9584, 3.1684, 2.6896, 2.0449, 3.6481, 1.9881, 3.7249, 3.61  ,\n",
       "        3.0625, 3.2041, 2.9584, 2.8224, 2.6896, 3.7636, 2.3409, 3.1684,\n",
       "        1.9881, 3.24  , 3.4225, 3.8809, 2.7225, 2.8224, 3.0976, 3.2761,\n",
       "        2.6896, 2.7556, 3.61  , 3.4596, 2.8224, 3.9204, 3.0625, 2.1025,\n",
       "        2.5281, 3.4225, 3.1684, 3.3489, 3.7636, 3.1329, 3.8809, 2.89  ,\n",
       "        2.0164, 2.56  , 3.8025, 3.61  ]])"
      ]
     },
     "execution_count": 46,
     "metadata": {},
     "output_type": "execute_result"
    }
   ],
   "source": [
    "v_height_m2 = np.array(v_height_m2)\n",
    "v_height_m2.reshape(1,100)"
   ]
  },
  {
   "cell_type": "markdown",
   "metadata": {},
   "source": [
    "**Yêu cầu 3: Tính chỉ số BMI của 100 người ngày theo công thức bên dưới, chỉ số BMI được làm tròn tới 1 số sau dấu “,”. Lưu kết quả vào vector v_bmi**\n"
   ]
  },
  {
   "cell_type": "code",
   "execution_count": 56,
   "metadata": {},
   "outputs": [
    {
     "data": {
      "text/plain": [
       "array([[31.7, 28.7, 36.3, 34.4, 20.1, 34.4, 30.4, 36.7, 29.7, 34. , 26.8,\n",
       "        26.4, 33.4, 16.8, 26.1, 35.3, 36.3, 42.6, 47.9, 45.9, 36.3, 49.2,\n",
       "        32. , 45.9, 22.1, 21.1, 31.4, 20.5, 52.5, 50.2, 40. , 17.2, 21.5,\n",
       "        43.3, 50.5, 43.6, 37.7, 26.4, 50.2, 26.8, 39.6, 35.7, 18.5, 39. ,\n",
       "        41.6, 25.1, 40.3, 36.7, 23.8, 50.2, 44.6, 17.8, 36.3, 34.7, 38.3,\n",
       "        29.4, 30.4, 41.9, 23.1, 29.1, 17.8, 47.2, 17.8, 27.4, 44.6, 52.2,\n",
       "        31.7, 19.5, 27.1, 44.9, 16.8, 38.6, 26.4, 24.8, 33. , 50.9, 34.4,\n",
       "        29.7, 40.3, 16.8, 24.8, 46.2, 34.7, 39. , 40.6, 16.5, 46.6, 38.6,\n",
       "        34.4, 46.2, 50.9, 31.7, 36.7, 20.1, 39.3, 51.5, 22.8, 45.9, 22.8,\n",
       "        16.5]])"
      ]
     },
     "execution_count": 56,
     "metadata": {},
     "output_type": "execute_result"
    }
   ],
   "source": [
    "# {Học viên viết code ở đây}\n",
    "v_bmi = []\n",
    "count = 0\n",
    "for i in v_height_m2:\n",
    "    for j in w_height:\n",
    "        temp = 0\n",
    "        temp = round(j/i,1)\n",
    "        v_bmi.append(temp)\n",
    "        count += 1\n",
    "    if count == 100:\n",
    "        break\n",
    "v_bmi = np.array(v_bmi)\n",
    "v_bmi.reshape(1,100)\n",
    "\n"
   ]
  },
  {
   "cell_type": "markdown",
   "metadata": {},
   "source": [
    "**Yêu cầu 4: Sắp xếp thứ tự các phần tử trong vector v_bmi theo chiều tăng dần, giảm dần**"
   ]
  },
  {
   "cell_type": "code",
   "execution_count": 61,
   "metadata": {},
   "outputs": [
    {
     "name": "stdout",
     "output_type": "stream",
     "text": [
      "Sap Xep Giam Dan:  [52.5 52.2 51.5 50.9 50.9 50.5 50.2 50.2 50.2 49.2 47.9 47.2 46.6 46.2\n",
      " 46.2 45.9 45.9 45.9 44.9 44.6 44.6 43.6 43.3 42.6 41.9 41.6 40.6 40.3\n",
      " 40.3 40.  39.6 39.3 39.  39.  38.6 38.6 38.3 37.7 36.7 36.7 36.7 36.3\n",
      " 36.3 36.3 36.3 35.7 35.3 34.7 34.7 34.4 34.4 34.4 34.4 34.  33.4 33.\n",
      " 32.  31.7 31.7 31.7 31.4 30.4 30.4 29.7 29.7 29.4 29.1 28.7 27.4 27.1\n",
      " 26.8 26.8 26.4 26.4 26.4 26.1 25.1 24.8 24.8 23.8 23.1 22.8 22.8 22.1\n",
      " 21.5 21.1 20.5 20.1 20.1 19.5 18.5 17.8 17.8 17.8 17.2 16.8 16.8 16.8\n",
      " 16.5 16.5]\n",
      "Sap Xep Tang Dan:  [16.5 16.5 16.8 16.8 16.8 17.2 17.8 17.8 17.8 18.5 19.5 20.1 20.1 20.5\n",
      " 21.1 21.5 22.1 22.8 22.8 23.1 23.8 24.8 24.8 25.1 26.1 26.4 26.4 26.4\n",
      " 26.8 26.8 27.1 27.4 28.7 29.1 29.4 29.7 29.7 30.4 30.4 31.4 31.7 31.7\n",
      " 31.7 32.  33.  33.4 34.  34.4 34.4 34.4 34.4 34.7 34.7 35.3 35.7 36.3\n",
      " 36.3 36.3 36.3 36.7 36.7 36.7 37.7 38.3 38.6 38.6 39.  39.  39.3 39.6\n",
      " 40.  40.3 40.3 40.6 41.6 41.9 42.6 43.3 43.6 44.6 44.6 44.9 45.9 45.9\n",
      " 45.9 46.2 46.2 46.6 47.2 47.9 49.2 50.2 50.2 50.2 50.5 50.9 50.9 51.5\n",
      " 52.2 52.5]\n"
     ]
    }
   ],
   "source": [
    "# {Học viên viết code ở đây}\n",
    "print(\"Sap Xep Giam Dan: \", -np.sort(-v_bmi))\n",
    "print(\"Sap Xep Tang Dan: \", np.sort(v_bmi))\n"
   ]
  },
  {
   "cell_type": "markdown",
   "metadata": {},
   "source": [
    "**Yêu cầu 5: Thống kê số lượng người theo từng mức dựa vào phân loại theo hình**"
   ]
  },
  {
   "cell_type": "code",
   "execution_count": 115,
   "metadata": {},
   "outputs": [
    {
     "name": "stdout",
     "output_type": "stream",
     "text": [
      "UNDERWEIGHT:  9\n",
      "NORMAL:  13\n",
      "Overweight:  14\n",
      "Obese:  100\n",
      "Extremely_Obese:  47\n"
     ]
    }
   ],
   "source": [
    "# {Học viên viết code ở đây}\n",
    "UNDERWEIGHT = np.where(v_bmi<18.5)\n",
    "Normal = np.where((v_bmi>18.5) & (v_bmi<24.9))\n",
    "Overweight = np.where((v_bmi>25) & (v_bmi<29.9))\n",
    "Obese = np.where((v_bmi)>30 & (v_bmi<34.9))\n",
    "Extremely_Obese = np.where(v_bmi>35)\n",
    "print(\"UNDERWEIGHT: \", UNDERWEIGHT[0].size)\n",
    "print(\"NORMAL: \", Normal[0].size)\n",
    "print(\"Overweight: \", Overweight[0].size)\n",
    "print(\"Obese: \", Obese[0].size)\n",
    "print(\"Extremely_Obese: \",Extremely_Obese[0].size)\n",
    "\n",
    "\n",
    "\n"
   ]
  },
  {
   "cell_type": "markdown",
   "metadata": {},
   "source": [
    "## 9. MA TRẬN VUÔNG\n",
    "---\n",
    "### 9.1) det(a)"
   ]
  },
  {
   "cell_type": "code",
   "execution_count": 25,
   "metadata": {},
   "outputs": [
    {
     "name": "stdout",
     "output_type": "stream",
     "text": [
      "Ma trận a:\n",
      " [[ 1  3  1  4]\n",
      " [ 3  9  5 15]\n",
      " [ 0  2  1  1]\n",
      " [ 0  4  2  3]]\n",
      "det(a) =  -3.999999999999999\n"
     ]
    }
   ],
   "source": [
    "import numpy as np\n",
    "a =np.array([( 1, 3, 1, 4),\n",
    "             ( 3, 9, 5,15),\n",
    "             ( 0, 2, 1, 1),\n",
    "             ( 0, 4, 2, 3)])\n",
    "print('Ma trận a:\\n',a)\n",
    "det_a =  np.linalg.det(a)\n",
    "print('det(a) = ', det_a)"
   ]
  },
  {
   "cell_type": "code",
   "execution_count": 26,
   "metadata": {},
   "outputs": [
    {
     "name": "stdout",
     "output_type": "stream",
     "text": [
      "Ma trận b:\n",
      " [[ 1  2  3  4]\n",
      " [-2 -1  4  1]\n",
      " [ 3 -4 -5  6]\n",
      " [ 1  2  3  4]]\n",
      "det(b) =  0.0\n"
     ]
    }
   ],
   "source": [
    "import numpy as np\n",
    "b =np.array([( 1, 2, 3, 4),\n",
    "             (-2,-1, 4, 1),\n",
    "             ( 3,-4,-5, 6),\n",
    "             ( 1, 2, 3, 4)])\n",
    "print('Ma trận b:\\n',b)\n",
    "det_b =  np.linalg.det(b)\n",
    "print('det(b) = ', det_b)"
   ]
  },
  {
   "cell_type": "code",
   "execution_count": 27,
   "metadata": {},
   "outputs": [
    {
     "name": "stdout",
     "output_type": "stream",
     "text": [
      "20.000000000000007\n"
     ]
    }
   ],
   "source": [
    "a =np.array([( 3, 0, 2,-1),\n",
    "             ( 1, 2, 0,-2),\n",
    "             ( 4, 0, 6,-3),\n",
    "             ( 5, 0, 2, 0)])\n",
    "det_a =  np.linalg.det(a)\n",
    "print(det_a)"
   ]
  },
  {
   "cell_type": "markdown",
   "metadata": {},
   "source": [
    "### 9.2) ma trận nghịch đảo\n",
    "---"
   ]
  },
  {
   "cell_type": "code",
   "execution_count": 28,
   "metadata": {},
   "outputs": [
    {
     "name": "stdout",
     "output_type": "stream",
     "text": [
      "[[-24.  18.   5.]\n",
      " [ 20. -15.  -4.]\n",
      " [ -5.   4.   1.]]\n",
      "[[1 0 0]\n",
      " [0 1 0]\n",
      " [0 0 1]]\n"
     ]
    }
   ],
   "source": [
    "import numpy as np\n",
    "m = np.array([(1, 2, 3),\n",
    "              (0, 1, 4),\n",
    "              (5, 6, 0)])\n",
    "\n",
    "#Xác định ma trận nghịc đảo của m\n",
    "m1 = np.linalg.inv(m)\n",
    "print(m1)\n",
    "\n",
    "print(np.dot(m,m1).astype(int))"
   ]
  },
  {
   "cell_type": "code",
   "execution_count": 73,
   "metadata": {},
   "outputs": [
    {
     "name": "stdout",
     "output_type": "stream",
     "text": [
      "Ma trận b:\n",
      " [[ 1  2  3  4]\n",
      " [-2 -1  4  1]\n",
      " [ 3 -4 -5  6]\n",
      " [ 1  2  3  4]]\n",
      "det(b) =  0.0\n"
     ]
    },
    {
     "ename": "LinAlgError",
     "evalue": "Singular matrix",
     "output_type": "error",
     "traceback": [
      "\u001b[1;31m---------------------------------------------------------------------------\u001b[0m",
      "\u001b[1;31mLinAlgError\u001b[0m                               Traceback (most recent call last)",
      "\u001b[1;32md:\\GT\\Lap_Trinh_PTDL\\baitap_ numpy.ipynb Cell 45\u001b[0m in \u001b[0;36m<module>\u001b[1;34m\u001b[0m\n\u001b[0;32m      <a href='vscode-notebook-cell:/d%3A/GT/Lap_Trinh_PTDL/baitap_%20numpy.ipynb#X62sZmlsZQ%3D%3D?line=7'>8</a>\u001b[0m det_b \u001b[39m=\u001b[39m  np\u001b[39m.\u001b[39mlinalg\u001b[39m.\u001b[39mdet(b)\n\u001b[0;32m      <a href='vscode-notebook-cell:/d%3A/GT/Lap_Trinh_PTDL/baitap_%20numpy.ipynb#X62sZmlsZQ%3D%3D?line=8'>9</a>\u001b[0m \u001b[39mprint\u001b[39m(\u001b[39m'\u001b[39m\u001b[39mdet(b) = \u001b[39m\u001b[39m'\u001b[39m, det_b)\n\u001b[1;32m---> <a href='vscode-notebook-cell:/d%3A/GT/Lap_Trinh_PTDL/baitap_%20numpy.ipynb#X62sZmlsZQ%3D%3D?line=10'>11</a>\u001b[0m b1 \u001b[39m=\u001b[39m np\u001b[39m.\u001b[39;49mlinalg\u001b[39m.\u001b[39;49minv(b)\n",
      "File \u001b[1;32m<__array_function__ internals>:180\u001b[0m, in \u001b[0;36minv\u001b[1;34m(*args, **kwargs)\u001b[0m\n",
      "File \u001b[1;32mc:\\Program Files\\Python310\\lib\\site-packages\\numpy\\linalg\\linalg.py:552\u001b[0m, in \u001b[0;36minv\u001b[1;34m(a)\u001b[0m\n\u001b[0;32m    550\u001b[0m signature \u001b[39m=\u001b[39m \u001b[39m'\u001b[39m\u001b[39mD->D\u001b[39m\u001b[39m'\u001b[39m \u001b[39mif\u001b[39;00m isComplexType(t) \u001b[39melse\u001b[39;00m \u001b[39m'\u001b[39m\u001b[39md->d\u001b[39m\u001b[39m'\u001b[39m\n\u001b[0;32m    551\u001b[0m extobj \u001b[39m=\u001b[39m get_linalg_error_extobj(_raise_linalgerror_singular)\n\u001b[1;32m--> 552\u001b[0m ainv \u001b[39m=\u001b[39m _umath_linalg\u001b[39m.\u001b[39;49minv(a, signature\u001b[39m=\u001b[39;49msignature, extobj\u001b[39m=\u001b[39;49mextobj)\n\u001b[0;32m    553\u001b[0m \u001b[39mreturn\u001b[39;00m wrap(ainv\u001b[39m.\u001b[39mastype(result_t, copy\u001b[39m=\u001b[39m\u001b[39mFalse\u001b[39;00m))\n",
      "File \u001b[1;32mc:\\Program Files\\Python310\\lib\\site-packages\\numpy\\linalg\\linalg.py:89\u001b[0m, in \u001b[0;36m_raise_linalgerror_singular\u001b[1;34m(err, flag)\u001b[0m\n\u001b[0;32m     88\u001b[0m \u001b[39mdef\u001b[39;00m \u001b[39m_raise_linalgerror_singular\u001b[39m(err, flag):\n\u001b[1;32m---> 89\u001b[0m     \u001b[39mraise\u001b[39;00m LinAlgError(\u001b[39m\"\u001b[39m\u001b[39mSingular matrix\u001b[39m\u001b[39m\"\u001b[39m)\n",
      "\u001b[1;31mLinAlgError\u001b[0m: Singular matrix"
     ]
    }
   ],
   "source": [
    "#Trường hợp det(a) = 0; không tồn tại ma trận nghịch đảo.\n",
    "import numpy as np\n",
    "b =np.array([( 1, 2, 3, 4),\n",
    "             (-2,-1, 4, 1),\n",
    "             ( 3,-4,-5, 6),\n",
    "             ( 1, 2, 3, 4)])\n",
    "print('Ma trận b:\\n',b)\n",
    "det_b =  np.linalg.det(b)\n",
    "print('det(b) = ', det_b)\n",
    "\n",
    "b1 = np.linalg.inv(b)"
   ]
  },
  {
   "cell_type": "code",
   "execution_count": null,
   "metadata": {},
   "outputs": [],
   "source": [
    "np.dot(a,b1)"
   ]
  },
  {
   "cell_type": "code",
   "execution_count": null,
   "metadata": {},
   "outputs": [],
   "source": [
    "a1 = a.diagonal()\n",
    "print(a1)"
   ]
  },
  {
   "cell_type": "markdown",
   "metadata": {},
   "source": [
    "### 9.3) Đường chéo trong ma trận vuông\n",
    "---\n",
    "A) Lấy các phần tử trên đường chéo"
   ]
  },
  {
   "cell_type": "code",
   "execution_count": null,
   "metadata": {},
   "outputs": [],
   "source": [
    "A = np.random.randint(1,100,(10,10))\n",
    "print(A)"
   ]
  },
  {
   "cell_type": "code",
   "execution_count": null,
   "metadata": {},
   "outputs": [],
   "source": [
    "#Lấy các phần tử trên đường chéo chính của \n",
    "#ma trận vuông A\n",
    "d_A = A.diagonal()\n",
    "print(d_A)"
   ]
  },
  {
   "cell_type": "code",
   "execution_count": null,
   "metadata": {},
   "outputs": [],
   "source": [
    "#Lấy các phần tử nằm trên đường chéo chính\n",
    "#của ma trận a 1 phần tử\n",
    "d_A1 =  A.diagonal(2)\n",
    "print(d_A1)"
   ]
  },
  {
   "cell_type": "code",
   "execution_count": null,
   "metadata": {},
   "outputs": [],
   "source": [
    "#Lấy các phần tử nằm dưới đường chéo chính\n",
    "#của ma trận a 4 phần tử\n",
    "d_A1 =  A.diagonal(-1)\n",
    "print(d_A1)"
   ]
  },
  {
   "cell_type": "markdown",
   "metadata": {},
   "source": [
    "**B) Lấy ma trận tam giác**"
   ]
  },
  {
   "cell_type": "code",
   "execution_count": null,
   "metadata": {},
   "outputs": [],
   "source": [
    "#MA TRẬN TAM GIÁC TRÊN\n",
    "#ma trận A\n",
    "d_A1 = np.triu(A)\n",
    "print(d_A1)"
   ]
  },
  {
   "cell_type": "code",
   "execution_count": null,
   "metadata": {},
   "outputs": [],
   "source": [
    "#MA TRẬN TAM GIÁC TRÊN\n",
    "#Tạo ma trận là các phần tử trên đường chéo chính \n",
    "#của ma trận vuông A cách đường chéo chính\n",
    "#về phía trên 2 đường\n",
    "d_A1 = np.triu(A,2)\n",
    "print(d_A1)"
   ]
  },
  {
   "cell_type": "code",
   "execution_count": null,
   "metadata": {},
   "outputs": [],
   "source": [
    "#MA TRẬN TAM GIÁC TRÊN\n",
    "#Tạo ma trận là các phần tử trên đường chéo chính \n",
    "#của ma trận vuông A cách đường chéo chính\n",
    "#về phía dưới 3 đường\n",
    "d_A1 = np.triu(A,-3)\n",
    "print(d_A1)"
   ]
  },
  {
   "cell_type": "code",
   "execution_count": null,
   "metadata": {},
   "outputs": [],
   "source": [
    "#MA TRẬN TAM GIÁC DƯỚI\n",
    "#của ma trận vuông A\n",
    "b_A1 = np.tril(A)\n",
    "print(b_A1)"
   ]
  },
  {
   "cell_type": "code",
   "execution_count": null,
   "metadata": {},
   "outputs": [],
   "source": [
    "b_A1 = np.tril(A,-1)\n",
    "print(b_A1)"
   ]
  },
  {
   "cell_type": "code",
   "execution_count": null,
   "metadata": {},
   "outputs": [],
   "source": [
    "b_A1 = np.tril(A,1)\n",
    "print(b_A1)"
   ]
  },
  {
   "cell_type": "markdown",
   "metadata": {},
   "source": [
    "**C) Trace of Matrix**"
   ]
  },
  {
   "cell_type": "code",
   "execution_count": null,
   "metadata": {},
   "outputs": [],
   "source": [
    "#Tính trace của ma trận vuông A\n",
    "trace_A = A.trace()\n",
    "print('Trace of Matrix A: ',trace_A)"
   ]
  },
  {
   "cell_type": "code",
   "execution_count": null,
   "metadata": {},
   "outputs": [],
   "source": [
    "#Cách 2: Tính trace của ma trận vuông A\n",
    "trace_A = A.diagonal().sum()\n",
    "print('Trace of Matrix A: ',trace_A)"
   ]
  },
  {
   "cell_type": "markdown",
   "metadata": {},
   "source": [
    "#### D) Eigenvector | Eigenvalues\n",
    "---"
   ]
  },
  {
   "cell_type": "code",
   "execution_count": null,
   "metadata": {},
   "outputs": [],
   "source": [
    "#Tìm giá trị riêng, vector riêng của vector A\n",
    "A = np.array([(3, 4,-2),\n",
    "              (1, 4,-1),\n",
    "              (2, 6,-1)])\n",
    "\n",
    "eigenvalues, eigenvectors = np.linalg.eig(A)\n",
    "print('Eigenvalues: ', eigenvalues)\n",
    "print('Eigenvectors: \\n',eigenvectors)"
   ]
  },
  {
   "cell_type": "code",
   "execution_count": null,
   "metadata": {},
   "outputs": [],
   "source": [
    "t = eigenvectors[:,0]\n",
    "print(t)"
   ]
  },
  {
   "cell_type": "code",
   "execution_count": null,
   "metadata": {},
   "outputs": [],
   "source": [
    "print(A@t)"
   ]
  },
  {
   "cell_type": "code",
   "execution_count": null,
   "metadata": {},
   "outputs": [],
   "source": [
    "print(3*t)"
   ]
  },
  {
   "cell_type": "markdown",
   "metadata": {},
   "source": [
    "## THỰC HÀNH 2:\n",
    "---\n",
    "**Yêu cầu 1: Sử dụng vector_weigth trong bài thực hành 1 chuyển về ma trận kích thước 10 x 10**"
   ]
  },
  {
   "cell_type": "code",
   "execution_count": 82,
   "metadata": {},
   "outputs": [
    {
     "data": {
      "text/plain": [
       "array([[ 96.,  87., 110., 104.,  61., 104.,  92., 111.,  90., 103.],\n",
       "       [ 81.,  80., 101.,  51.,  79., 107., 110., 129., 145., 139.],\n",
       "       [110., 149.,  97., 139.,  67.,  64.,  95.,  62., 159., 152.],\n",
       "       [121.,  52.,  65., 131., 153., 132., 114.,  80., 152.,  81.],\n",
       "       [120., 108.,  56., 118., 126.,  76., 122., 111.,  72., 152.],\n",
       "       [135.,  54., 110., 105., 116.,  89.,  92., 127.,  70.,  88.],\n",
       "       [ 54., 143.,  54.,  83., 135., 158.,  96.,  59.,  82., 136.],\n",
       "       [ 51., 117.,  80.,  75., 100., 154., 104.,  90., 122.,  51.],\n",
       "       [ 75., 140., 105., 118., 123.,  50., 141., 117., 104., 140.],\n",
       "       [154.,  96., 111.,  61., 119., 156.,  69., 139.,  69.,  50.]])"
      ]
     },
     "execution_count": 82,
     "metadata": {},
     "output_type": "execute_result"
    }
   ],
   "source": [
    "# {Học viên viết code ở đây}\n",
    "w_height.shape\n",
    "weight = w_height.reshape(10,10)\n",
    "weight\n",
    "\n",
    "\n",
    "\n"
   ]
  },
  {
   "cell_type": "markdown",
   "metadata": {},
   "source": [
    "**Yêu cầu 2: Cho biết ma trận weight có tồn tại ma trân nghịch đảo không? Nếu có hãy xác định ma trận weight-1 ?**"
   ]
  },
  {
   "cell_type": "code",
   "execution_count": 78,
   "metadata": {},
   "outputs": [
    {
     "data": {
      "text/plain": [
       "array([[ 0.20672933, -0.01828619, -0.08121229,  0.15165329, -0.05867193,\n",
       "        -0.32128926,  0.00328234, -0.21117582,  0.1531515 ,  0.14765915],\n",
       "       [-0.03378959, -0.00092993,  0.01637303, -0.02576189,  0.01204942,\n",
       "         0.03860094, -0.00254169,  0.0334947 , -0.01916893, -0.01399406],\n",
       "       [ 0.16001186, -0.01361912, -0.06334124,  0.11206935, -0.06692393,\n",
       "        -0.2278292 ,  0.01233269, -0.16357827,  0.12566149,  0.10512262],\n",
       "       [-0.20060155,  0.0096163 ,  0.08597968, -0.14951455,  0.06703284,\n",
       "         0.32178178, -0.00847147,  0.21237844, -0.160284  , -0.14756298],\n",
       "       [-0.1151341 ,  0.00896286,  0.04087891, -0.07066568,  0.02398925,\n",
       "         0.16297821,  0.00236627,  0.09744888, -0.06997591, -0.06720453],\n",
       "       [ 0.04172982, -0.00327195, -0.01645048,  0.02463278, -0.00963244,\n",
       "        -0.05248791,  0.0053399 , -0.03159687,  0.01832677,  0.02128759],\n",
       "       [ 0.46636016, -0.03988045, -0.19342132,  0.33291136, -0.13479078,\n",
       "        -0.70496996,  0.01080126, -0.45280827,  0.34838493,  0.30636839],\n",
       "       [-0.35820439,  0.03342262,  0.14250743, -0.26148364,  0.11928475,\n",
       "         0.5420641 , -0.01976057,  0.36295382, -0.27052793, -0.24027735],\n",
       "       [-0.11663945,  0.01450792,  0.04922918, -0.07563266,  0.03173362,\n",
       "         0.16437771, -0.00762818,  0.1113903 , -0.08306723, -0.07324272],\n",
       "       [-0.02532702,  0.00758554,  0.01126819, -0.02080555,  0.00793174,\n",
       "         0.04361741,  0.00599041,  0.01895287, -0.02303197, -0.0214799 ]])"
      ]
     },
     "execution_count": 78,
     "metadata": {},
     "output_type": "execute_result"
    }
   ],
   "source": [
    "# {Học viên viết code ở đây}\n",
    "np.linalg.det(weight)\n",
    "np.linalg.inv(weight)\n"
   ]
  },
  {
   "cell_type": "markdown",
   "metadata": {},
   "source": [
    "**Yêu cầu 3: Tạo vector_diagonal chứa các phần tử trên đường chéo chính của ma trận weight, tính trace của ma trận weight.**"
   ]
  },
  {
   "cell_type": "code",
   "execution_count": 83,
   "metadata": {},
   "outputs": [
    {
     "name": "stdout",
     "output_type": "stream",
     "text": [
      "[ 96.  80.  97. 131. 126.  89.  96.  90. 104.  50.]\n",
      "Trace =  959.0\n"
     ]
    }
   ],
   "source": [
    "# {Học viên viết code ở đây}\n",
    "vector_diagonal = weight.diagonal()\n",
    "print(vector_diagonal)\n",
    "print(\"Trace = \", weight.trace())\n"
   ]
  },
  {
   "cell_type": "markdown",
   "metadata": {},
   "source": [
    "**Yêu cầu 4: Tìm giá trị lớn nhất của ma trận đường chéo trên và ma trận đường chéo dưới không bao gồm các phần tử trên đường chéo chính**"
   ]
  },
  {
   "cell_type": "code",
   "execution_count": 94,
   "metadata": {},
   "outputs": [
    {
     "name": "stdout",
     "output_type": "stream",
     "text": [
      "Max Ma Tran Duong Cheo Tren =  159.0\n",
      "Max Ma Tran Duong Cheo Duoi =   158.0\n"
     ]
    }
   ],
   "source": [
    "# {Học viên viết code ở đây}\n",
    "max = 0\n",
    "max_1 = 0\n",
    "for i in range(1,10):\n",
    "    temp = weight.diagonal(i)\n",
    "    for j in temp:\n",
    "        if j > max:\n",
    "            max = j\n",
    "print(\"Max Ma Tran Duong Cheo Tren = \", max)\n",
    "\n",
    "for i in range(-10,1):\n",
    "    temp = weight.diagonal(i)\n",
    "    for j in temp:\n",
    "        if j > max_1:\n",
    "            max_1 = j\n",
    "print(\"Max Ma Tran Duong Cheo Duoi =  \", max_1)\n",
    "\n"
   ]
  },
  {
   "cell_type": "code",
   "execution_count": 93,
   "metadata": {},
   "outputs": [
    {
     "data": {
      "text/plain": [
       "array([[ 96.,  87., 110., 104.,  61., 104.,  92., 111.,  90., 103.],\n",
       "       [ 81.,  80., 101.,  51.,  79., 107., 110., 129., 145., 139.],\n",
       "       [110., 149.,  97., 139.,  67.,  64.,  95.,  62., 159., 152.],\n",
       "       [121.,  52.,  65., 131., 153., 132., 114.,  80., 152.,  81.],\n",
       "       [120., 108.,  56., 118., 126.,  76., 122., 111.,  72., 152.],\n",
       "       [135.,  54., 110., 105., 116.,  89.,  92., 127.,  70.,  88.],\n",
       "       [ 54., 143.,  54.,  83., 135., 158.,  96.,  59.,  82., 136.],\n",
       "       [ 51., 117.,  80.,  75., 100., 154., 104.,  90., 122.,  51.],\n",
       "       [ 75., 140., 105., 118., 123.,  50., 141., 117., 104., 140.],\n",
       "       [154.,  96., 111.,  61., 119., 156.,  69., 139.,  69.,  50.]])"
      ]
     },
     "execution_count": 93,
     "metadata": {},
     "output_type": "execute_result"
    }
   ],
   "source": [
    "weight"
   ]
  },
  {
   "cell_type": "markdown",
   "metadata": {},
   "source": [
    "## 10. Phép toán trên 2 mảng\n",
    "---\n",
    "### 10.1) Cộng/trừ"
   ]
  },
  {
   "cell_type": "code",
   "execution_count": null,
   "metadata": {},
   "outputs": [],
   "source": [
    "import numpy as np\n",
    "\n",
    "a = np.random.randint(1,20,(3,5))\n",
    "b = np.random.randint(1,20,(3,5))\n",
    "print('Matrix a: \\n',a)\n",
    "print('Matrix b: \\n',b)"
   ]
  },
  {
   "cell_type": "code",
   "execution_count": null,
   "metadata": {},
   "outputs": [],
   "source": [
    "a*b"
   ]
  },
  {
   "cell_type": "code",
   "execution_count": null,
   "metadata": {},
   "outputs": [],
   "source": [
    "print('Matrix a: \\n',a)\n",
    "print('Matrix b: \\n',b)"
   ]
  },
  {
   "cell_type": "code",
   "execution_count": null,
   "metadata": {},
   "outputs": [],
   "source": [
    "#1) So sánh 2 ma trận\n",
    "equal_ab = np.equal(a,b)\n",
    "#hoặc equal_ab = a==b\n",
    "\n",
    "print(equal_ab)"
   ]
  },
  {
   "cell_type": "code",
   "execution_count": null,
   "metadata": {},
   "outputs": [],
   "source": [
    "#Phép cộng 2 ma trận\n",
    "sum_ab = np.add(a,b)\n",
    "#hoặc sum_ab = a + b\n",
    "print (sum_ab)"
   ]
  },
  {
   "cell_type": "code",
   "execution_count": null,
   "metadata": {},
   "outputs": [],
   "source": [
    "#Phép trừ 2 ma trận\n",
    "sub_ab = np.subtract(a,b)\n",
    "#hoặc sub_ab = a - b\n",
    "print (sub_ab)"
   ]
  },
  {
   "cell_type": "code",
   "execution_count": null,
   "metadata": {},
   "outputs": [],
   "source": [
    "c = np.random.randint(1,20,(5,4))\n",
    "print('Matrix a: \\n',a)\n",
    "print('Matrix c: \\n',c)"
   ]
  },
  {
   "cell_type": "code",
   "execution_count": null,
   "metadata": {},
   "outputs": [],
   "source": [
    "#3) Tích của 2 ma trận:\n",
    "#multi_ac = np.dot(a,c)\n",
    "multi_ac1 = a@c\n",
    "print(multi_ac)"
   ]
  },
  {
   "cell_type": "code",
   "execution_count": null,
   "metadata": {},
   "outputs": [],
   "source": [
    "#Lưu ý: Nếu sử dụng phép toán *, \n",
    "#thực hiện nhân từng phần của ma trận a và b\n",
    "#a, b có cùng kích thước.\n",
    "\n",
    "multi_ac = a*b\n",
    "print(multi_ac)"
   ]
  },
  {
   "cell_type": "code",
   "execution_count": null,
   "metadata": {},
   "outputs": [],
   "source": [
    "#Tích của 2 vector:\n",
    "vector_a = np.random.randint(1,20,10)\n",
    "vector_b = np.random.randint(1,20,10)\n",
    "#Thực hiện tính tích của 2 vector\n",
    "#Kết quả trả về một số\n",
    "vector_ab = vector_a @ vector_b\n",
    "\n",
    "print('Vector a:\\n',vector_a)\n",
    "print('Vector b:\\n',vector_b)\n",
    "print('Tích của hai vector:\\n',vector_ab)"
   ]
  },
  {
   "cell_type": "markdown",
   "metadata": {},
   "source": [
    "# THỰC HÀNH 3\n",
    "---\n",
    "**Yêu cầu 1: Chuyển vector_height, vector_weigth trong bài thực hành 1 về ma trận height, weight kích thước 10 x 10.**\n",
    "\n",
    "Thực hiện các phép toán: So sánh; Cộng; Trừ; Nhân hai ma trận height và weighT"
   ]
  },
  {
   "cell_type": "code",
   "execution_count": 103,
   "metadata": {},
   "outputs": [
    {
     "name": "stdout",
     "output_type": "stream",
     "text": [
      "So Sanh 2 Ma Tran:  [[False False False False False False False False False False]\n",
      " [False False False False False False False False False False]\n",
      " [False False False False False False False False False False]\n",
      " [False False False False False False False False False False]\n",
      " [False False False False False False False False False False]\n",
      " [False False False False False False False False False False]\n",
      " [False False False False False False False False False False]\n",
      " [False False False False False False False False False False]\n",
      " [False False False False False False False False False False]\n",
      " [False False False False False False False False False False]]\n",
      "Cong 2 Ma Tran:  [[270. 276. 295. 299. 210. 293. 239. 265. 264. 272.]\n",
      " [276. 239. 293. 206. 270. 260. 267. 269. 289. 311.]\n",
      " [267. 302. 266. 324. 239. 215. 285. 249. 322. 331.]\n",
      " [274. 230. 260. 291. 310. 321. 311. 224. 323. 266.]\n",
      " [295. 257. 213. 279. 308. 261. 310. 292. 233. 292.]\n",
      " [303. 230. 273. 277. 312. 276. 264. 305. 234. 231.]\n",
      " [245. 284. 247. 273. 310. 337. 268. 227. 246. 330.]\n",
      " [204. 295. 221. 255. 285. 351. 269. 258. 298. 232.]\n",
      " [239. 306. 295. 304. 291. 248. 316. 262. 263. 325.]\n",
      " [332. 279. 305. 238. 316. 326. 211. 299. 264. 240.]]\n",
      "Tru 2 Ma Tran:  [[ 78. 102.  75.  91.  88.  85.  55.  43.  84.  66.]\n",
      " [114.  79.  91. 104. 112.  46.  47.  11.  -1.  33.]\n",
      " [ 47.   4.  72.  46. 105.  87.  95. 125.   4.  27.]\n",
      " [ 32. 126. 130.  29.   4.  57.  83.  64.  19. 104.]\n",
      " [ 55.  41. 101.  43.  56. 109.  66.  70.  89. -12.]\n",
      " [ 33. 122.  53.  67.  80.  98.  80.  51.  94.  55.]\n",
      " [137.  -2. 139. 107.  40.  21.  76. 109.  82.  58.]\n",
      " [102.  61.  61. 105.  85.  43.  61.  78.  54. 130.]\n",
      " [ 89.  26.  85.  68.  45. 148.  34.  28.  55.  45.]\n",
      " [ 24.  87.  83. 116.  78.  14.  73.  21. 126. 140.]]\n",
      "Nhan 2 Ma Tran:  [[174221. 173884. 155270. 171014. 185231. 186050. 178492. 177689. 186677.\n",
      "  188044.]\n",
      " [167955. 170746. 147624. 165000. 176224. 178572. 170522. 169711. 175953.\n",
      "  183673.]\n",
      " [169053. 176483. 149587. 167956. 186180. 189338. 176317. 172703. 181957.\n",
      "  184690.]\n",
      " [173568. 178807. 154353. 170040. 186689. 188023. 177727. 176570. 183710.\n",
      "  190923.]\n",
      " [165453. 172597. 147612. 166331. 181933. 183208. 174216. 170636. 176746.\n",
      "  183924.]\n",
      " [170579. 175303. 151414. 170101. 185986. 186075. 179040. 175956. 182646.\n",
      "  189304.]\n",
      " [179174. 180936. 157294. 176279. 190883. 193126. 181389. 180136. 187374.\n",
      "  190970.]\n",
      " [173743. 173805. 153136. 168788. 188806. 188313. 178882. 179247. 181288.\n",
      "  186667.]\n",
      " [176746. 176376. 154794. 172359. 188139. 188710. 178378. 177765. 184609.\n",
      "  189577.]\n",
      " [180971. 183258. 160151. 177480. 191701. 190441. 185665. 185013. 190943.\n",
      "  196772.]]\n"
     ]
    }
   ],
   "source": [
    "# {Học viên viết code ở đây}\n",
    "height  = v_height.reshape(10,10)\n",
    "print(\"So Sanh 2 Ma Tran: \", np.equal(height,weight))\n",
    "print(\"Cong 2 Ma Tran: \", np.add(height,weight))\n",
    "print(\"Tru 2 Ma Tran: \" , np.subtract(height, weight))\n",
    "print(\"Nhan 2 Ma Tran: \",  height@weight)\n"
   ]
  },
  {
   "cell_type": "markdown",
   "metadata": {},
   "source": [
    "## 11. Rank(A); A.T\n",
    "---\n",
    "### 11.1) Hạng của ma trận"
   ]
  },
  {
   "cell_type": "code",
   "execution_count": null,
   "metadata": {
    "scrolled": true
   },
   "outputs": [],
   "source": [
    "A=np.array([(-1, 2, 0, 4, 5,-3),\n",
    "            ( 3,-7, 2, 0, 1, 4),\n",
    "            ( 2,-5, 2, 4, 6, 1),\n",
    "            ( 4,-9, 2,-4,-4, 7)])\n",
    "#Tìm hạng của ma trận A\n",
    "rank_a = np.linalg.matrix_rank(A)\n",
    "print(A)\n",
    "print('Rank(A) = ', rank_a)"
   ]
  },
  {
   "cell_type": "code",
   "execution_count": null,
   "metadata": {},
   "outputs": [],
   "source": [
    "#Hạng của ma trận 0\n",
    "A_0 = np.zeros((4,5))\n",
    "print(A_0)\n",
    "rank = np.linalg.matrix_rank(A_0)\n",
    "print('Rank(A_0) = ', rank)"
   ]
  },
  {
   "cell_type": "code",
   "execution_count": null,
   "metadata": {},
   "outputs": [],
   "source": [
    "#Hạng của ma trận có các phần tử bằng nhau\n",
    "A_cons = np.full((4,5),5)\n",
    "print(A_cons)\n",
    "rank_c = np.linalg.matrix_rank(A_cons)\n",
    "print('Rank(A_cons) = ', rank_c)"
   ]
  },
  {
   "cell_type": "code",
   "execution_count": null,
   "metadata": {},
   "outputs": [],
   "source": [
    "#Hạng của ma trận có det(A)=0\n",
    "import numpy as np\n",
    "B =np.array([( 1, 2, 3, 4),\n",
    "             (-2,-1, 4, 1),\n",
    "             ( 3,-4,-5, 6),\n",
    "             ( 1, 2, 3, 4)])\n",
    "print('Ma trận B1:\\n',B)\n",
    "det_b =  np.linalg.det(B)\n",
    "print('det(B1) = ', det_b)\n",
    "rank_b = np.linalg.matrix_rank(B)\n",
    "print('Rank(B1) = ', rank_b)"
   ]
  },
  {
   "cell_type": "code",
   "execution_count": null,
   "metadata": {},
   "outputs": [],
   "source": [
    "#Hạng của ma trận có det(A)#0\n",
    "import numpy as np\n",
    "B =np.array([( 1, 3, 1, 4),\n",
    "             ( 3, 9, 5,15),\n",
    "             ( 0, 2, 1, 1),\n",
    "             ( 0, 4, 2, 3)])\n",
    "print('Ma trận B2:\\n',B)\n",
    "det_b =  np.linalg.det(B)\n",
    "print('det(B2) = ', round(det_b,2))\n",
    "rank_b = np.linalg.matrix_rank(B)\n",
    "print('Rank(B2) = ', rank_b)"
   ]
  },
  {
   "cell_type": "markdown",
   "metadata": {},
   "source": [
    "### 11.2) Ma trận chuyển vị\n",
    "---"
   ]
  },
  {
   "cell_type": "code",
   "execution_count": null,
   "metadata": {},
   "outputs": [],
   "source": [
    "#MA TRẬN CHUYỂN VỊ\n",
    "A=np.array([(-1, 2, 0, 4, 5,-3),\n",
    "            ( 3,-7, 2, 0, 1, 4),\n",
    "            ( 2,-5, 2, 4, 6, 1),\n",
    "            ( 4,-9, 2,-4,-4, 7)])\n",
    "#Tìm ma trận chuyển vị của A\n",
    "A_T = A.T\n",
    "print('Ma trận A:\\n',A)\n",
    "print('Ma trận chuyển vị của A:\\n',A_T)"
   ]
  },
  {
   "cell_type": "code",
   "execution_count": null,
   "metadata": {},
   "outputs": [],
   "source": [
    "B =np.array([( 1, 3, 1, 4),\n",
    "             ( 3, 9, 5,15),\n",
    "             ( 0, 2, 1, 1),\n",
    "             ( 0, 4, 2, 3)])\n",
    "#Tìm ma trận chuyển vị của B\n",
    "B_T = B.T\n",
    "print('Ma trận B:\\n',B)\n",
    "print('Ma trận chuyển vị của B:\\n',B_T)"
   ]
  },
  {
   "cell_type": "markdown",
   "metadata": {},
   "source": [
    "## THỰC HÀNH 4\n",
    "---\n",
    "Yêu cầu 4.1: Học viên tìm ma trận nghịch đảo và hạng của ma trận Height, Weight trong bài thực hành số 3:"
   ]
  },
  {
   "cell_type": "code",
   "execution_count": 105,
   "metadata": {},
   "outputs": [
    {
     "name": "stdout",
     "output_type": "stream",
     "text": [
      "Ma Tran Nghich Dao Height =  [[174. 195. 157. 153. 175. 168. 191. 153. 164. 178.]\n",
      " [189. 159. 153. 178. 149. 176. 141. 178. 166. 183.]\n",
      " [185. 192. 169. 195. 157. 163. 193. 141. 190. 194.]\n",
      " [195. 155. 185. 160. 161. 172. 190. 180. 186. 177.]\n",
      " [149. 191. 172. 157. 182. 196. 175. 185. 168. 197.]\n",
      " [189. 153. 151. 189. 185. 187. 179. 197. 198. 170.]\n",
      " [147. 157. 190. 197. 188. 172. 172. 165. 175. 142.]\n",
      " [154. 140. 187. 144. 181. 178. 168. 168. 145. 160.]\n",
      " [174. 144. 163. 171. 161. 164. 164. 176. 159. 195.]\n",
      " [169. 172. 179. 185. 140. 143. 194. 181. 185. 190.]]\n",
      "Ma Tran Nghich Dao Weight =  [[ 96.  81. 110. 121. 120. 135.  54.  51.  75. 154.]\n",
      " [ 87.  80. 149.  52. 108.  54. 143. 117. 140.  96.]\n",
      " [110. 101.  97.  65.  56. 110.  54.  80. 105. 111.]\n",
      " [104.  51. 139. 131. 118. 105.  83.  75. 118.  61.]\n",
      " [ 61.  79.  67. 153. 126. 116. 135. 100. 123. 119.]\n",
      " [104. 107.  64. 132.  76.  89. 158. 154.  50. 156.]\n",
      " [ 92. 110.  95. 114. 122.  92.  96. 104. 141.  69.]\n",
      " [111. 129.  62.  80. 111. 127.  59.  90. 117. 139.]\n",
      " [ 90. 145. 159. 152.  72.  70.  82. 122. 104.  69.]\n",
      " [103. 139. 152.  81. 152.  88. 136.  51. 140.  50.]]\n"
     ]
    }
   ],
   "source": [
    "# {Học viên viết code ở đây}\n",
    "print(\"Ma Tran Nghich Dao Height = \", height.T)\n",
    "print(\"Ma Tran Nghich Dao Weight = \", weight.T)\n",
    "\n"
   ]
  },
  {
   "cell_type": "code",
   "execution_count": 107,
   "metadata": {},
   "outputs": [
    {
     "name": "stdout",
     "output_type": "stream",
     "text": [
      "Rank Height =  10\n",
      "Rank Weight =  10\n"
     ]
    }
   ],
   "source": [
    "#{Học viên kiểm tra và trả lời các câu hỏi vào đây?}\n",
    "print(\"Rank Height = \", np.linalg.matrix_rank(height))\n",
    "print(\"Rank Weight = \", np.linalg.matrix_rank(weight))"
   ]
  }
 ],
 "metadata": {
  "colab": {
   "collapsed_sections": [],
   "name": "Chuong_4_package_Numpy.ipynb",
   "provenance": []
  },
  "kernelspec": {
   "display_name": "Python 3.10.1 64-bit",
   "language": "python",
   "name": "python3"
  },
  "language_info": {
   "codemirror_mode": {
    "name": "ipython",
    "version": 3
   },
   "file_extension": ".py",
   "mimetype": "text/x-python",
   "name": "python",
   "nbconvert_exporter": "python",
   "pygments_lexer": "ipython3",
   "version": "3.10.1"
  },
  "vscode": {
   "interpreter": {
    "hash": "26de051ba29f2982a8de78e945f0abaf191376122a1563185a90213a26c5da77"
   }
  }
 },
 "nbformat": 4,
 "nbformat_minor": 4
}
