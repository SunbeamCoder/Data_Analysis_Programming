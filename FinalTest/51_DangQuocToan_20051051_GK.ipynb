{
 "cells": [
  {
   "cell_type": "code",
   "execution_count": 1,
   "metadata": {},
   "outputs": [],
   "source": [
    "import pandas as pd\n",
    "import numpy as np\n",
    "import matplotlib.pyplot as plt\n",
    "import seaborn as sns"
   ]
  },
  {
   "cell_type": "markdown",
   "metadata": {},
   "source": [
    "## Đặng Quốc Toàn\n",
    "## 20051051\n",
    "## Số Máy: 14"
   ]
  },
  {
   "cell_type": "code",
   "execution_count": 2,
   "metadata": {},
   "outputs": [
    {
     "name": "stderr",
     "output_type": "stream",
     "text": [
      "C:\\ProgramData\\Anaconda3\\lib\\site-packages\\IPython\\core\\interactiveshell.py:3146: DtypeWarning: Columns (2,3,22) have mixed types.Specify dtype option on import or set low_memory=False.\n",
      "  has_raised = await self.run_ast_nodes(code_ast.body, cell_name,\n"
     ]
    }
   ],
   "source": [
    "df = pd.read_csv('PISA_INTERNATIONAL_2018.CSV')"
   ]
  },
  {
   "cell_type": "code",
   "execution_count": 3,
   "metadata": {},
   "outputs": [
    {
     "data": {
      "text/html": [
       "<div>\n",
       "<style scoped>\n",
       "    .dataframe tbody tr th:only-of-type {\n",
       "        vertical-align: middle;\n",
       "    }\n",
       "\n",
       "    .dataframe tbody tr th {\n",
       "        vertical-align: top;\n",
       "    }\n",
       "\n",
       "    .dataframe thead th {\n",
       "        text-align: right;\n",
       "    }\n",
       "</style>\n",
       "<table border=\"1\" class=\"dataframe\">\n",
       "  <thead>\n",
       "    <tr style=\"text-align: right;\">\n",
       "      <th></th>\n",
       "      <th>CNT</th>\n",
       "      <th>STRATUM</th>\n",
       "      <th>Region</th>\n",
       "      <th>Area</th>\n",
       "      <th>SCHOOLID</th>\n",
       "      <th>StIDStd</th>\n",
       "      <th>ST04Q01</th>\n",
       "      <th>ST26Q01</th>\n",
       "      <th>ST26Q02</th>\n",
       "      <th>ST26Q03</th>\n",
       "      <th>...</th>\n",
       "      <th>MATH</th>\n",
       "      <th>MACC</th>\n",
       "      <th>MACQ</th>\n",
       "      <th>MACS</th>\n",
       "      <th>MACU</th>\n",
       "      <th>MAPE</th>\n",
       "      <th>MAPF</th>\n",
       "      <th>MAPI</th>\n",
       "      <th>READ</th>\n",
       "      <th>SCIE</th>\n",
       "    </tr>\n",
       "  </thead>\n",
       "  <tbody>\n",
       "    <tr>\n",
       "      <th>0</th>\n",
       "      <td>Australia</td>\n",
       "      <td>AUS - stratum 09 : VIC_Independent</td>\n",
       "      <td>NaN</td>\n",
       "      <td>NaN</td>\n",
       "      <td>1</td>\n",
       "      <td>1</td>\n",
       "      <td>Female</td>\n",
       "      <td>Yes</td>\n",
       "      <td>Yes</td>\n",
       "      <td>Yes</td>\n",
       "      <td>...</td>\n",
       "      <td>561.544</td>\n",
       "      <td>549.081</td>\n",
       "      <td>582.575</td>\n",
       "      <td>571.670</td>\n",
       "      <td>598.154</td>\n",
       "      <td>566.218</td>\n",
       "      <td>569.333</td>\n",
       "      <td>555.312</td>\n",
       "      <td>582.313</td>\n",
       "      <td>583.495</td>\n",
       "    </tr>\n",
       "    <tr>\n",
       "      <th>1</th>\n",
       "      <td>Australia</td>\n",
       "      <td>AUS - stratum 09 : VIC_Independent</td>\n",
       "      <td>NaN</td>\n",
       "      <td>NaN</td>\n",
       "      <td>1</td>\n",
       "      <td>2</td>\n",
       "      <td>Female</td>\n",
       "      <td>No</td>\n",
       "      <td>Yes</td>\n",
       "      <td>Yes</td>\n",
       "      <td>...</td>\n",
       "      <td>564.815</td>\n",
       "      <td>588.184</td>\n",
       "      <td>595.194</td>\n",
       "      <td>556.247</td>\n",
       "      <td>572.605</td>\n",
       "      <td>558.584</td>\n",
       "      <td>585.068</td>\n",
       "      <td>617.004</td>\n",
       "      <td>616.786</td>\n",
       "      <td>627.322</td>\n",
       "    </tr>\n",
       "    <tr>\n",
       "      <th>2</th>\n",
       "      <td>Australia</td>\n",
       "      <td>AUS - stratum 09 : VIC_Independent</td>\n",
       "      <td>NaN</td>\n",
       "      <td>NaN</td>\n",
       "      <td>1</td>\n",
       "      <td>3</td>\n",
       "      <td>Female</td>\n",
       "      <td>Yes</td>\n",
       "      <td>Yes</td>\n",
       "      <td>Yes</td>\n",
       "      <td>...</td>\n",
       "      <td>507.330</td>\n",
       "      <td>508.888</td>\n",
       "      <td>501.098</td>\n",
       "      <td>515.898</td>\n",
       "      <td>470.720</td>\n",
       "      <td>496.425</td>\n",
       "      <td>493.309</td>\n",
       "      <td>471.499</td>\n",
       "      <td>583.981</td>\n",
       "      <td>556.173</td>\n",
       "    </tr>\n",
       "    <tr>\n",
       "      <th>3</th>\n",
       "      <td>Australia</td>\n",
       "      <td>AUS - stratum 09 : VIC_Independent</td>\n",
       "      <td>NaN</td>\n",
       "      <td>NaN</td>\n",
       "      <td>1</td>\n",
       "      <td>4</td>\n",
       "      <td>Male</td>\n",
       "      <td>Yes</td>\n",
       "      <td>Yes</td>\n",
       "      <td>Yes</td>\n",
       "      <td>...</td>\n",
       "      <td>601.737</td>\n",
       "      <td>569.801</td>\n",
       "      <td>583.822</td>\n",
       "      <td>588.495</td>\n",
       "      <td>600.958</td>\n",
       "      <td>578.369</td>\n",
       "      <td>586.158</td>\n",
       "      <td>576.032</td>\n",
       "      <td>649.798</td>\n",
       "      <td>668.351</td>\n",
       "    </tr>\n",
       "    <tr>\n",
       "      <th>4</th>\n",
       "      <td>Australia</td>\n",
       "      <td>AUS - stratum 09 : VIC_Independent</td>\n",
       "      <td>NaN</td>\n",
       "      <td>NaN</td>\n",
       "      <td>1</td>\n",
       "      <td>5</td>\n",
       "      <td>Male</td>\n",
       "      <td>Yes</td>\n",
       "      <td>Yes</td>\n",
       "      <td>Yes</td>\n",
       "      <td>...</td>\n",
       "      <td>520.182</td>\n",
       "      <td>485.130</td>\n",
       "      <td>530.309</td>\n",
       "      <td>468.772</td>\n",
       "      <td>521.740</td>\n",
       "      <td>526.414</td>\n",
       "      <td>486.688</td>\n",
       "      <td>545.108</td>\n",
       "      <td>554.126</td>\n",
       "      <td>573.611</td>\n",
       "    </tr>\n",
       "  </tbody>\n",
       "</table>\n",
       "<p>5 rows × 38 columns</p>\n",
       "</div>"
      ],
      "text/plain": [
       "         CNT                             STRATUM Region Area  SCHOOLID  \\\n",
       "0  Australia  AUS - stratum 09 : VIC_Independent    NaN  NaN         1   \n",
       "1  Australia  AUS - stratum 09 : VIC_Independent    NaN  NaN         1   \n",
       "2  Australia  AUS - stratum 09 : VIC_Independent    NaN  NaN         1   \n",
       "3  Australia  AUS - stratum 09 : VIC_Independent    NaN  NaN         1   \n",
       "4  Australia  AUS - stratum 09 : VIC_Independent    NaN  NaN         1   \n",
       "\n",
       "   StIDStd ST04Q01 ST26Q01 ST26Q02 ST26Q03  ...     MATH     MACC     MACQ  \\\n",
       "0        1  Female     Yes     Yes     Yes  ...  561.544  549.081  582.575   \n",
       "1        2  Female      No     Yes     Yes  ...  564.815  588.184  595.194   \n",
       "2        3  Female     Yes     Yes     Yes  ...  507.330  508.888  501.098   \n",
       "3        4    Male     Yes     Yes     Yes  ...  601.737  569.801  583.822   \n",
       "4        5    Male     Yes     Yes     Yes  ...  520.182  485.130  530.309   \n",
       "\n",
       "      MACS     MACU     MAPE     MAPF     MAPI     READ     SCIE  \n",
       "0  571.670  598.154  566.218  569.333  555.312  582.313  583.495  \n",
       "1  556.247  572.605  558.584  585.068  617.004  616.786  627.322  \n",
       "2  515.898  470.720  496.425  493.309  471.499  583.981  556.173  \n",
       "3  588.495  600.958  578.369  586.158  576.032  649.798  668.351  \n",
       "4  468.772  521.740  526.414  486.688  545.108  554.126  573.611  \n",
       "\n",
       "[5 rows x 38 columns]"
      ]
     },
     "execution_count": 3,
     "metadata": {},
     "output_type": "execute_result"
    }
   ],
   "source": [
    "df.head()"
   ]
  },
  {
   "cell_type": "code",
   "execution_count": 46,
   "metadata": {},
   "outputs": [
    {
     "name": "stdout",
     "output_type": "stream",
     "text": [
      "<class 'pandas.core.frame.DataFrame'>\n",
      "RangeIndex: 36570 entries, 0 to 36569\n",
      "Data columns (total 38 columns):\n",
      " #   Column    Non-Null Count  Dtype  \n",
      "---  ------    --------------  -----  \n",
      " 0   CNT       36570 non-null  object \n",
      " 1   STRATUM   36570 non-null  object \n",
      " 2   Region    4959 non-null   object \n",
      " 3   Area      4959 non-null   object \n",
      " 4   SCHOOLID  36570 non-null  int64  \n",
      " 5   StIDStd   36570 non-null  int64  \n",
      " 6   ST04Q01   36570 non-null  object \n",
      " 7   ST26Q01   36570 non-null  object \n",
      " 8   ST26Q02   36570 non-null  object \n",
      " 9   ST26Q03   36570 non-null  object \n",
      " 10  ST26Q04   36570 non-null  object \n",
      " 11  ST26Q05   36570 non-null  object \n",
      " 12  ST26Q06   36570 non-null  object \n",
      " 13  ST26Q07   36570 non-null  object \n",
      " 14  ST26Q08   36570 non-null  object \n",
      " 15  ST26Q09   36570 non-null  object \n",
      " 16  ST26Q10   36570 non-null  object \n",
      " 17  ST26Q11   36570 non-null  object \n",
      " 18  ST26Q12   36570 non-null  object \n",
      " 19  ST26Q13   36570 non-null  object \n",
      " 20  ST26Q14   36570 non-null  object \n",
      " 21  CLCUSE1   36570 non-null  object \n",
      " 22  AGE       36570 non-null  object \n",
      " 23  FAMSTRUC  36570 non-null  object \n",
      " 24  hisei     36570 non-null  object \n",
      " 25  iscedd    36570 non-null  object \n",
      " 26  iscedl    36570 non-null  object \n",
      " 27  PARED     36570 non-null  object \n",
      " 28  MATH      36570 non-null  float64\n",
      " 29  MACC      36570 non-null  float64\n",
      " 30  MACQ      36570 non-null  float64\n",
      " 31  MACS      36570 non-null  float64\n",
      " 32  MACU      36570 non-null  float64\n",
      " 33  MAPE      36570 non-null  float64\n",
      " 34  MAPF      36570 non-null  float64\n",
      " 35  MAPI      36570 non-null  float64\n",
      " 36  READ      36570 non-null  float64\n",
      " 37  SCIE      36570 non-null  float64\n",
      "dtypes: float64(10), int64(2), object(26)\n",
      "memory usage: 10.6+ MB\n"
     ]
    }
   ],
   "source": [
    "df.info()"
   ]
  },
  {
   "cell_type": "markdown",
   "metadata": {},
   "source": [
    "* Câu 1b"
   ]
  },
  {
   "cell_type": "code",
   "execution_count": 4,
   "metadata": {},
   "outputs": [
    {
     "name": "stdout",
     "output_type": "stream",
     "text": [
      "ST04Q01\n",
      "Female    9.198720e+06\n",
      "Male      8.931075e+06\n",
      "Name: MATH, dtype: float64\n",
      "Điểm môn Toán của Nữ =  9198720.367000006\n",
      "Điểm môn Toán của Nam =  8931074.639299987\n",
      "- Ta có Nữ 9198720.367000006 > Nam 8931074.639299987 Trong Môn Toán\n",
      "__________________________________\n",
      "ST04Q01\n",
      "Female    9.611656e+06\n",
      "Male      8.608844e+06\n",
      "Name: READ, dtype: float64\n",
      "Điểm môn Đọc của Nữ =  9611655.695199942\n",
      "Điểm môn Đọc của Nam =  8608844.42630003\n",
      "- Ta có Nữ 9611655.695199942 > Nam 8608844.42630003 Trông Môn Đọc\n",
      "__________________________________\n",
      "ST04Q01\n",
      "Female    9.462059e+06\n",
      "Male      9.083269e+06\n",
      "Name: SCIE, dtype: float64\n",
      "Điểm môn Khoa Học của Nữ =  9462059.228799988\n",
      "Điểm môn Khoa Học của Nam =  9083268.831800014\n",
      "- Ta có Nữ 9462059.228799988 > Nam 9083268.831800014 Trong Môn Khoa Học\n"
     ]
    }
   ],
   "source": [
    "a = df['MATH'].groupby(df['ST04Q01']).sum()\n",
    "print(a)\n",
    "print(\"Điểm môn Toán của Nữ = \", a[0])\n",
    "print(\"Điểm môn Toán của Nam = \", a[1])\n",
    "print(f\"- Ta có Nữ {a[0]} > Nam {a[1]} Trong Môn Toán\")\n",
    "print(\"__________________________________\")\n",
    "b = df['READ'].groupby(df['ST04Q01']).sum()\n",
    "print(b)\n",
    "print(\"Điểm môn Đọc của Nữ = \", b[0])\n",
    "print(\"Điểm môn Đọc của Nam = \", b[1])\n",
    "print(f\"- Ta có Nữ {b[0]} > Nam {b[1]} Trông Môn Đọc\")\n",
    "print(\"__________________________________\")\n",
    "c = df['SCIE'].groupby(df['ST04Q01']).sum()\n",
    "print(c)\n",
    "print(\"Điểm môn Khoa Học của Nữ = \", c[0])\n",
    "print(\"Điểm môn Khoa Học của Nam = \", c[1])\n",
    "print(f\"- Ta có Nữ {c[0]} > Nam {c[1]} Trong Môn Khoa Học\")"
   ]
  },
  {
   "cell_type": "code",
   "execution_count": 36,
   "metadata": {},
   "outputs": [
    {
     "data": {
      "text/plain": [
       "Area\n",
       "Remote     149395.594\n",
       "Rural     1146445.357\n",
       "Urban     1236174.959\n",
       "Name: MATH, dtype: float64"
      ]
     },
     "execution_count": 36,
     "metadata": {},
     "output_type": "execute_result"
    }
   ],
   "source": [
    "a = df['MATH'].groupby(df['Area']).sum()\n",
    "a"
   ]
  },
  {
   "cell_type": "code",
   "execution_count": 49,
   "metadata": {},
   "outputs": [
    {
     "name": "stdout",
     "output_type": "stream",
     "text": [
      "Area\n",
      "Remote     149395.594\n",
      "Rural     1146445.357\n",
      "Urban     1236174.959\n",
      "Name: MATH, dtype: float64\n",
      "Điểm môn Toán ở Nông Thôn =  1146445.3569999975\n",
      "Điểm môn Toán ở Thành Thị =  1236174.9589999989\n",
      "- Ta có Tổng Điểm Nông Thôn 1146445.3569999975 < Thành Thị 1236174.9589999989 Trong Môn Toán\n",
      "_____________________________________________________________________\n",
      "Area\n",
      "Remote     152863.353\n",
      "Rural     1149130.871\n",
      "Urban     1218463.236\n",
      "Name: READ, dtype: float64\n",
      "Điểm môn Đọc ở Nông Thôn =  1149130.871000002\n",
      "Điểm môn Đọc ở Thành Thị =  1218463.2360000012\n",
      "- Ta có Tổng Điểm Nông Thôn 1149130.871000002 < Thành Thị 1218463.2360000012 Trong Môn Toán\n",
      "_____________________________________________________________________\n",
      "Area\n",
      "Remote     161601.429\n",
      "Rural     1186661.743\n",
      "Urban     1270872.302\n",
      "Name: SCIE, dtype: float64\n",
      "Điểm môn Khoa Học ở Nông Thôn =  1186661.7429999993\n",
      "Điểm môn Khoa Học ở Thành Thị =  1270872.3019999994\n",
      "- Ta có Tổng Điểm Nông Thôn 1186661.7429999993 < Thành Thị 1270872.3019999994 Trong Môn Khoa Học\n"
     ]
    }
   ],
   "source": [
    "a = df['MATH'].groupby(df['Area']).sum()\n",
    "print(a)\n",
    "print(\"Điểm môn Toán ở Nông Thôn = \", a[1])\n",
    "print(\"Điểm môn Toán ở Thành Thị = \", a[2])\n",
    "print(f\"- Ta có Tổng Điểm Nông Thôn {a[1]} < Thành Thị {a[2]} Trong Môn Toán\")\n",
    "print(\"_____________________________________________________________________\")\n",
    "b = df['READ'].groupby(df['Area']).sum()\n",
    "print(b)\n",
    "print(\"Điểm môn Đọc ở Nông Thôn = \", b[1])\n",
    "print(\"Điểm môn Đọc ở Thành Thị = \", b[2])\n",
    "print(f\"- Ta có Tổng Điểm Nông Thôn {b[1]} < Thành Thị {b[2]} Trong Môn Toán\")\n",
    "print(\"_____________________________________________________________________\")\n",
    "c = df['SCIE'].groupby(df['Area']).sum()\n",
    "print(c)\n",
    "print(\"Điểm môn Khoa Học ở Nông Thôn = \", c[1])\n",
    "print(\"Điểm môn Khoa Học ở Thành Thị = \", c[2])\n",
    "print(f\"- Ta có Tổng Điểm Nông Thôn {c[1]} < Thành Thị {c[2]} Trong Môn Khoa Học\")"
   ]
  },
  {
   "cell_type": "markdown",
   "metadata": {},
   "source": [
    "* Câu 2b"
   ]
  },
  {
   "cell_type": "code",
   "execution_count": 8,
   "metadata": {},
   "outputs": [
    {
     "name": "stdout",
     "output_type": "stream",
     "text": [
      "ST04Q01\n",
      "Female    9.198720e+06\n",
      "Male      8.931075e+06\n",
      "Name: MATH, dtype: float64\n"
     ]
    },
    {
     "data": {
      "image/png": "[encoded data removed]",
      "text/plain": [
       "<Figure size 432x288 with 1 Axes>"
      ]
     },
     "metadata": {
      "needs_background": "light"
     },
     "output_type": "display_data"
    }
   ],
   "source": [
    "a = df['MATH'].groupby(df['ST04Q01']).sum()\n",
    "print(a)\n",
    "a.plot(kind = 'bar')\n",
    "plt.title(\"Điểm Môn Toán giữa Nam và Nữ\")\n",
    "plt.show()"
   ]
  },
  {
   "cell_type": "code",
   "execution_count": 9,
   "metadata": {},
   "outputs": [
    {
     "name": "stdout",
     "output_type": "stream",
     "text": [
      "ST04Q01\n",
      "Female    9.611656e+06\n",
      "Male      8.608844e+06\n",
      "Name: READ, dtype: float64\n"
     ]
    },
    {
     "data": {
      "image/png": "[encoded data removed]",
      "text/plain": [
       "<Figure size 432x288 with 1 Axes>"
      ]
     },
     "metadata": {
      "needs_background": "light"
     },
     "output_type": "display_data"
    }
   ],
   "source": [
    "a = df['READ'].groupby(df['ST04Q01']).sum()\n",
    "print(a)\n",
    "a.plot(kind = 'bar')\n",
    "plt.title(\"Điểm Môn Đọc giữa Nam và Nữ\")\n",
    "plt.show()"
   ]
  },
  {
   "cell_type": "code",
   "execution_count": 10,
   "metadata": {},
   "outputs": [
    {
     "name": "stdout",
     "output_type": "stream",
     "text": [
      "ST04Q01\n",
      "Female    9.462059e+06\n",
      "Male      9.083269e+06\n",
      "Name: SCIE, dtype: float64\n"
     ]
    },
    {
     "data": {
      "image/png": "[encoded data removed]",
      "text/plain": [
       "<Figure size 432x288 with 1 Axes>"
      ]
     },
     "metadata": {
      "needs_background": "light"
     },
     "output_type": "display_data"
    }
   ],
   "source": [
    "a = df['SCIE'].groupby(df['ST04Q01']).sum()\n",
    "print(a)\n",
    "a.plot(kind = 'bar')\n",
    "plt.title(\"Điểm Môn Khoa Học giữa Nam và Nữ\")\n",
    "plt.show()"
   ]
  },
  {
   "cell_type": "markdown",
   "metadata": {},
   "source": [
    "* Câu 2a"
   ]
  },
  {
   "cell_type": "code",
   "execution_count": 12,
   "metadata": {},
   "outputs": [],
   "source": [
    "col = ['MATH','READ','SCIE']\n",
    "i = []\n",
    "for c in col:\n",
    "    temp = df[c].sum()\n",
    "    i.append(temp)"
   ]
  },
  {
   "cell_type": "code",
   "execution_count": 13,
   "metadata": {},
   "outputs": [
    {
     "name": "stdout",
     "output_type": "stream",
     "text": [
      "[18129795.0063, 18220500.1215, 18545328.0606]\n"
     ]
    }
   ],
   "source": [
    "print(i)"
   ]
  },
  {
   "cell_type": "code",
   "execution_count": 47,
   "metadata": {},
   "outputs": [
    {
     "data": {
      "image/png": "[encoded data removed]",
      "text/plain": [
       "<Figure size 432x288 with 1 Axes>"
      ]
     },
     "metadata": {
      "needs_background": "light"
     },
     "output_type": "display_data"
    }
   ],
   "source": [
    "plt.scatter(col,i)\n",
    "plt.plot(col,i)\n",
    "plt.title(\"Tổng Điểm Môn Toán, Đọc, Khoa Học Của Toàn Bộ Học Sinh\")\n",
    "plt.xlabel(\"Môn Học\")\n",
    "plt.ylabel(\"Tổng Số Điểm\")\n",
    "plt.show()"
   ]
  },
  {
   "cell_type": "markdown",
   "metadata": {},
   "source": [
    "* Câu 2b"
   ]
  },
  {
   "cell_type": "code",
   "execution_count": 44,
   "metadata": {},
   "outputs": [
    {
     "data": {
      "image/png": "[encoded data removed]",
      "text/plain": [
       "<Figure size 432x288 with 1 Axes>"
      ]
     },
     "metadata": {
      "needs_background": "light"
     },
     "output_type": "display_data"
    }
   ],
   "source": [
    "a = df['MATH'].groupby(df['Area']).sum()\n",
    "a\n",
    "a.plot(kind  = 'bar')\n",
    "plt.title('Điểm Môn Toán giữa Urban = thành thị và Rural = nông thôn')\n",
    "plt.xlabel(\"Khu Vực Thành Thị - Nông Thông - Từ Xa\")\n",
    "plt.ylabel(\"Tổng Điểm\")\n",
    "plt.show()"
   ]
  },
  {
   "cell_type": "code",
   "execution_count": 43,
   "metadata": {},
   "outputs": [
    {
     "data": {
      "image/png": "[encoded data removed]",
      "text/plain": [
       "<Figure size 432x288 with 1 Axes>"
      ]
     },
     "metadata": {
      "needs_background": "light"
     },
     "output_type": "display_data"
    }
   ],
   "source": [
    "a = df['READ'].groupby(df['Area']).sum()\n",
    "a\n",
    "a.plot(kind  = 'bar')\n",
    "plt.title('Điểm Môn Đọc giữa Urban = thành thị và Rural = nông thôn')\n",
    "plt.xlabel(\"Khu Vực Thành Thị - Nông Thông - Từ Xa\")\n",
    "plt.ylabel(\"Tổng Điểm\")\n",
    "plt.show()"
   ]
  },
  {
   "cell_type": "code",
   "execution_count": 45,
   "metadata": {},
   "outputs": [
    {
     "data": {
      "image/png": "[encoded data removed]",
      "text/plain": [
       "<Figure size 432x288 with 1 Axes>"
      ]
     },
     "metadata": {
      "needs_background": "light"
     },
     "output_type": "display_data"
    }
   ],
   "source": [
    "a = df['SCIE'].groupby(df['Area']).sum()\n",
    "a\n",
    "a.plot(kind  = 'bar')\n",
    "plt.title('Điểm Môn Khoa Học giữa Urban = thành thị và Rural = nông thôn')\n",
    "plt.xlabel(\"Khu Vực Thành Thị - Nông Thông - Từ Xa\")\n",
    "plt.ylabel(\"Tổng Điểm\")\n",
    "plt.show()"
   ]
  },
  {
   "cell_type": "code",
   "execution_count": null,
   "metadata": {},
   "outputs": [],
   "source": []
  }
 ],
 "metadata": {
  "kernelspec": {
   "display_name": "Python 3",
   "language": "python",
   "name": "python3"
  },
  "language_info": {
   "codemirror_mode": {
    "name": "ipython",
    "version": 3
   },
   "file_extension": ".py",
   "mimetype": "text/x-python",
   "name": "python",
   "nbconvert_exporter": "python",
   "pygments_lexer": "ipython3",
   "version": "3.11.0 (main, Oct 24 2022, 18:26:48) [MSC v.1933 64 bit (AMD64)]"
  },
  "vscode": {
   "interpreter": {
    "hash": "5951e350517f67bd9f71e3ee99293a990f7d3b635fd583d356ddaae05dc8dcbc"
   }
  }
 },
 "nbformat": 4,
 "nbformat_minor": 4
}
