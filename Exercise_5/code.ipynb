{
 "cells": [
  {
   "cell_type": "code",
   "execution_count": null,
   "metadata": {},
   "outputs": [],
   "source": []
  }
 ],
 "metadata": {
  "kernelspec": {
   "display_name": "Python 3.11.0 64-bit",
   "language": "python",
   "name": "python3"
  },
  "language_info": {
   "name": "python",
   "version": "3.11.0"
  },
  "orig_nbformat": 4,
  "vscode": {
   "interpreter": {
    "hash": "5951e350517f67bd9f71e3ee99293a990f7d3b635fd583d356ddaae05dc8dcbc"
   }
  }
 },
 "nbformat": 4,
 "nbformat_minor": 2
}
