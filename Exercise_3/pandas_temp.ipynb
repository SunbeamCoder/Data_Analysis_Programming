{
 "cells": [
  {
   "cell_type": "code",
   "execution_count": 20,
   "metadata": {},
   "outputs": [
    {
     "data": {
      "text/html": [
       "<div>\n",
       "<style scoped>\n",
       "    .dataframe tbody tr th:only-of-type {\n",
       "        vertical-align: middle;\n",
       "    }\n",
       "\n",
       "    .dataframe tbody tr th {\n",
       "        vertical-align: top;\n",
       "    }\n",
       "\n",
       "    .dataframe thead th {\n",
       "        text-align: right;\n",
       "    }\n",
       "</style>\n",
       "<table border=\"1\" class=\"dataframe\">\n",
       "  <thead>\n",
       "    <tr style=\"text-align: right;\">\n",
       "      <th></th>\n",
       "      <th>TimeVN</th>\n",
       "      <th>HaGiang</th>\n",
       "      <th>CaMau</th>\n",
       "    </tr>\n",
       "  </thead>\n",
       "  <tbody>\n",
       "    <tr>\n",
       "      <th>0</th>\n",
       "      <td>2012-08-01 7:00</td>\n",
       "      <td>26.200001</td>\n",
       "      <td>25.400000</td>\n",
       "    </tr>\n",
       "    <tr>\n",
       "      <th>1</th>\n",
       "      <td>2012-08-01 10:00</td>\n",
       "      <td>31.400000</td>\n",
       "      <td>30.799999</td>\n",
       "    </tr>\n",
       "    <tr>\n",
       "      <th>2</th>\n",
       "      <td>2012-08-01 13:00</td>\n",
       "      <td>35.099998</td>\n",
       "      <td>30.000000</td>\n",
       "    </tr>\n",
       "    <tr>\n",
       "      <th>3</th>\n",
       "      <td>2012-08-01 16:00</td>\n",
       "      <td>35.799999</td>\n",
       "      <td>27.700001</td>\n",
       "    </tr>\n",
       "    <tr>\n",
       "      <th>4</th>\n",
       "      <td>2012-08-01 19:00</td>\n",
       "      <td>30.400000</td>\n",
       "      <td>28.100000</td>\n",
       "    </tr>\n",
       "  </tbody>\n",
       "</table>\n",
       "</div>"
      ],
      "text/plain": [
       "             TimeVN    HaGiang      CaMau\n",
       "0   2012-08-01 7:00  26.200001  25.400000\n",
       "1  2012-08-01 10:00  31.400000  30.799999\n",
       "2  2012-08-01 13:00  35.099998  30.000000\n",
       "3  2012-08-01 16:00  35.799999  27.700001\n",
       "4  2012-08-01 19:00  30.400000  28.100000"
      ]
     },
     "execution_count": 20,
     "metadata": {},
     "output_type": "execute_result"
    }
   ],
   "source": [
    "import pandas as pd\n",
    "df = pd.read_csv(\"D:\\Source Code\\Data_Analysis_Programming\\Exercise_3\\data\\Data_Temperature.csv\")\n",
    "df.head()"
   ]
  },
  {
   "cell_type": "code",
   "execution_count": 21,
   "metadata": {},
   "outputs": [
    {
     "data": {
      "text/plain": [
       "TimeVN       0\n",
       "HaGiang    196\n",
       "CaMau      250\n",
       "dtype: int64"
      ]
     },
     "execution_count": 21,
     "metadata": {},
     "output_type": "execute_result"
    }
   ],
   "source": [
    "df.isnull().sum()"
   ]
  },
  {
   "cell_type": "code",
   "execution_count": 22,
   "metadata": {},
   "outputs": [
    {
     "data": {
      "text/html": [
       "<div>\n",
       "<style scoped>\n",
       "    .dataframe tbody tr th:only-of-type {\n",
       "        vertical-align: middle;\n",
       "    }\n",
       "\n",
       "    .dataframe tbody tr th {\n",
       "        vertical-align: top;\n",
       "    }\n",
       "\n",
       "    .dataframe thead th {\n",
       "        text-align: right;\n",
       "    }\n",
       "</style>\n",
       "<table border=\"1\" class=\"dataframe\">\n",
       "  <thead>\n",
       "    <tr style=\"text-align: right;\">\n",
       "      <th></th>\n",
       "      <th>TimeVN</th>\n",
       "      <th>HaGiang</th>\n",
       "      <th>CaMau</th>\n",
       "    </tr>\n",
       "  </thead>\n",
       "  <tbody>\n",
       "    <tr>\n",
       "      <th>19</th>\n",
       "      <td>2012-08-03 16:00</td>\n",
       "      <td>NaN</td>\n",
       "      <td>28.900000</td>\n",
       "    </tr>\n",
       "    <tr>\n",
       "      <th>20</th>\n",
       "      <td>2012-08-03 19:00</td>\n",
       "      <td>NaN</td>\n",
       "      <td>27.600000</td>\n",
       "    </tr>\n",
       "    <tr>\n",
       "      <th>21</th>\n",
       "      <td>2012-08-03 22:00</td>\n",
       "      <td>NaN</td>\n",
       "      <td>27.000000</td>\n",
       "    </tr>\n",
       "    <tr>\n",
       "      <th>22</th>\n",
       "      <td>2012-08-04 1:00</td>\n",
       "      <td>NaN</td>\n",
       "      <td>26.700001</td>\n",
       "    </tr>\n",
       "    <tr>\n",
       "      <th>23</th>\n",
       "      <td>2012-08-04 4:00</td>\n",
       "      <td>NaN</td>\n",
       "      <td>26.799999</td>\n",
       "    </tr>\n",
       "    <tr>\n",
       "      <th>...</th>\n",
       "      <td>...</td>\n",
       "      <td>...</td>\n",
       "      <td>...</td>\n",
       "    </tr>\n",
       "    <tr>\n",
       "      <th>12005</th>\n",
       "      <td>2016-09-09 22:00</td>\n",
       "      <td>27.900000</td>\n",
       "      <td>NaN</td>\n",
       "    </tr>\n",
       "    <tr>\n",
       "      <th>12076</th>\n",
       "      <td>2016-09-18 19:00</td>\n",
       "      <td>27.100000</td>\n",
       "      <td>NaN</td>\n",
       "    </tr>\n",
       "    <tr>\n",
       "      <th>12299</th>\n",
       "      <td>2016-10-16 16:00</td>\n",
       "      <td>33.200001</td>\n",
       "      <td>NaN</td>\n",
       "    </tr>\n",
       "    <tr>\n",
       "      <th>13163</th>\n",
       "      <td>2017-02-01 16:00</td>\n",
       "      <td>21.400000</td>\n",
       "      <td>NaN</td>\n",
       "    </tr>\n",
       "    <tr>\n",
       "      <th>16954</th>\n",
       "      <td>2018-05-21 13:00</td>\n",
       "      <td>30.799999</td>\n",
       "      <td>NaN</td>\n",
       "    </tr>\n",
       "  </tbody>\n",
       "</table>\n",
       "<p>294 rows × 3 columns</p>\n",
       "</div>"
      ],
      "text/plain": [
       "                 TimeVN    HaGiang      CaMau\n",
       "19     2012-08-03 16:00        NaN  28.900000\n",
       "20     2012-08-03 19:00        NaN  27.600000\n",
       "21     2012-08-03 22:00        NaN  27.000000\n",
       "22      2012-08-04 1:00        NaN  26.700001\n",
       "23      2012-08-04 4:00        NaN  26.799999\n",
       "...                 ...        ...        ...\n",
       "12005  2016-09-09 22:00  27.900000        NaN\n",
       "12076  2016-09-18 19:00  27.100000        NaN\n",
       "12299  2016-10-16 16:00  33.200001        NaN\n",
       "13163  2017-02-01 16:00  21.400000        NaN\n",
       "16954  2018-05-21 13:00  30.799999        NaN\n",
       "\n",
       "[294 rows x 3 columns]"
      ]
     },
     "execution_count": 22,
     "metadata": {},
     "output_type": "execute_result"
    }
   ],
   "source": [
    "df[df.isnull().any(axis=1)]"
   ]
  },
  {
   "cell_type": "code",
   "execution_count": 23,
   "metadata": {},
   "outputs": [
    {
     "name": "stdout",
     "output_type": "stream",
     "text": [
      "<class 'pandas.core.frame.DataFrame'>\n",
      "RangeIndex: 21670 entries, 0 to 21669\n",
      "Data columns (total 3 columns):\n",
      " #   Column   Non-Null Count  Dtype         \n",
      "---  ------   --------------  -----         \n",
      " 0   TimeVN   21670 non-null  datetime64[ns]\n",
      " 1   HaGiang  21474 non-null  float64       \n",
      " 2   CaMau    21420 non-null  float64       \n",
      "dtypes: datetime64[ns](1), float64(2)\n",
      "memory usage: 508.0 KB\n"
     ]
    }
   ],
   "source": [
    "#Chuyển đổi dữ liệu cột TimeVn về dạng chuỗi thời gian\n",
    "df['TimeVN'] = pd.to_datetime(df['TimeVN'])\n",
    "df.info()\n"
   ]
  },
  {
   "cell_type": "code",
   "execution_count": 24,
   "metadata": {},
   "outputs": [
    {
     "data": {
      "text/plain": [
       "Index(['TimeVN', 'HaGiang', 'CaMau'], dtype='object')"
      ]
     },
     "execution_count": 24,
     "metadata": {},
     "output_type": "execute_result"
    }
   ],
   "source": [
    "#Thiết lập cột TimeVn làm index cho DataFrame\n",
    "df.columns\n"
   ]
  },
  {
   "cell_type": "code",
   "execution_count": 26,
   "metadata": {},
   "outputs": [],
   "source": [
    "df.set_index('TimeVN',inplace=True)"
   ]
  },
  {
   "cell_type": "code",
   "execution_count": 27,
   "metadata": {},
   "outputs": [
    {
     "data": {
      "text/html": [
       "<div>\n",
       "<style scoped>\n",
       "    .dataframe tbody tr th:only-of-type {\n",
       "        vertical-align: middle;\n",
       "    }\n",
       "\n",
       "    .dataframe tbody tr th {\n",
       "        vertical-align: top;\n",
       "    }\n",
       "\n",
       "    .dataframe thead th {\n",
       "        text-align: right;\n",
       "    }\n",
       "</style>\n",
       "<table border=\"1\" class=\"dataframe\">\n",
       "  <thead>\n",
       "    <tr style=\"text-align: right;\">\n",
       "      <th></th>\n",
       "      <th>HaGiang</th>\n",
       "      <th>CaMau</th>\n",
       "    </tr>\n",
       "    <tr>\n",
       "      <th>TimeVN</th>\n",
       "      <th></th>\n",
       "      <th></th>\n",
       "    </tr>\n",
       "  </thead>\n",
       "  <tbody>\n",
       "    <tr>\n",
       "      <th>2012-08-01 07:00:00</th>\n",
       "      <td>26.200001</td>\n",
       "      <td>25.400000</td>\n",
       "    </tr>\n",
       "    <tr>\n",
       "      <th>2012-08-01 10:00:00</th>\n",
       "      <td>31.400000</td>\n",
       "      <td>30.799999</td>\n",
       "    </tr>\n",
       "    <tr>\n",
       "      <th>2012-08-01 13:00:00</th>\n",
       "      <td>35.099998</td>\n",
       "      <td>30.000000</td>\n",
       "    </tr>\n",
       "    <tr>\n",
       "      <th>2012-08-01 16:00:00</th>\n",
       "      <td>35.799999</td>\n",
       "      <td>27.700001</td>\n",
       "    </tr>\n",
       "    <tr>\n",
       "      <th>2012-08-01 19:00:00</th>\n",
       "      <td>30.400000</td>\n",
       "      <td>28.100000</td>\n",
       "    </tr>\n",
       "  </tbody>\n",
       "</table>\n",
       "</div>"
      ],
      "text/plain": [
       "                       HaGiang      CaMau\n",
       "TimeVN                                   \n",
       "2012-08-01 07:00:00  26.200001  25.400000\n",
       "2012-08-01 10:00:00  31.400000  30.799999\n",
       "2012-08-01 13:00:00  35.099998  30.000000\n",
       "2012-08-01 16:00:00  35.799999  27.700001\n",
       "2012-08-01 19:00:00  30.400000  28.100000"
      ]
     },
     "execution_count": 27,
     "metadata": {},
     "output_type": "execute_result"
    }
   ],
   "source": [
    "df.head()"
   ]
  },
  {
   "cell_type": "code",
   "execution_count": 30,
   "metadata": {},
   "outputs": [],
   "source": [
    "# Thống kê nhiệt độ của Hà Giang\n",
    "v = df['HaGiang'].value_counts()"
   ]
  },
  {
   "cell_type": "code",
   "execution_count": 37,
   "metadata": {},
   "outputs": [
    {
     "data": {
      "text/plain": [
       "Text(0.5, 0, 'Temperature')"
      ]
     },
     "execution_count": 37,
     "metadata": {},
     "output_type": "execute_result"
    },
    {
     "data": {
      "image/png": "[encoded data removed]",
      "text/plain": [
       "<Figure size 432x288 with 1 Axes>"
      ]
     },
     "metadata": {
      "needs_background": "light"
     },
     "output_type": "display_data"
    }
   ],
   "source": [
    "import matplotlib.pyplot as plt\n",
    "plt.bar(v.index,v.values)\n",
    "plt.ylabel('Amount',fontsize = 10)\n",
    "plt.xlabel('Temperature', fontsize = 10)"
   ]
  },
  {
   "cell_type": "code",
   "execution_count": 36,
   "metadata": {},
   "outputs": [],
   "source": [
    "# Thống kê nhiệt độ của Cà Mau\n",
    "c = df['CaMau'].value_counts()\n"
   ]
  },
  {
   "cell_type": "code",
   "execution_count": 34,
   "metadata": {},
   "outputs": [
    {
     "data": {
      "text/plain": [
       "<BarContainer object of 178 artists>"
      ]
     },
     "execution_count": 34,
     "metadata": {},
     "output_type": "execute_result"
    },
    {
     "data": {
      "image/png": "[encoded data removed]",
      "text/plain": [
       "<Figure size 432x288 with 1 Axes>"
      ]
     },
     "metadata": {
      "needs_background": "light"
     },
     "output_type": "display_data"
    }
   ],
   "source": [
    "plt.bar(c.index,c.values)"
   ]
  },
  {
   "cell_type": "code",
   "execution_count": 38,
   "metadata": {},
   "outputs": [
    {
     "data": {
      "text/plain": [
       "DatetimeIndex(['2012-08-01 07:00:00', '2012-08-01 10:00:00',\n",
       "               '2012-08-01 13:00:00', '2012-08-01 16:00:00',\n",
       "               '2012-08-01 19:00:00', '2012-08-01 22:00:00',\n",
       "               '2012-08-02 01:00:00', '2012-08-02 04:00:00',\n",
       "               '2012-08-02 07:00:00', '2012-08-02 10:00:00',\n",
       "               ...\n",
       "               '2019-12-30 19:00:00', '2019-12-30 22:00:00',\n",
       "               '2019-12-31 01:00:00', '2019-12-31 04:00:00',\n",
       "               '2019-12-31 07:00:00', '2019-12-31 10:00:00',\n",
       "               '2019-12-31 13:00:00', '2019-12-31 16:00:00',\n",
       "               '2019-12-31 19:00:00', '2019-12-31 22:00:00'],\n",
       "              dtype='datetime64[ns]', name='TimeVN', length=21670, freq=None)"
      ]
     },
     "execution_count": 38,
     "metadata": {},
     "output_type": "execute_result"
    }
   ],
   "source": [
    "df.index"
   ]
  },
  {
   "cell_type": "code",
   "execution_count": 39,
   "metadata": {},
   "outputs": [],
   "source": [
    "# Lấy dữ liệu từ năm 2012-2013\n",
    "df_new = df.loc['2012': '2013']"
   ]
  },
  {
   "cell_type": "code",
   "execution_count": 40,
   "metadata": {},
   "outputs": [
    {
     "name": "stdout",
     "output_type": "stream",
     "text": [
      "<class 'pandas.core.frame.DataFrame'>\n",
      "DatetimeIndex: 4142 entries, 2012-08-01 07:00:00 to 2013-12-31 22:00:00\n",
      "Data columns (total 2 columns):\n",
      " #   Column   Non-Null Count  Dtype  \n",
      "---  ------   --------------  -----  \n",
      " 0   HaGiang  3962 non-null   float64\n",
      " 1   CaMau    3953 non-null   float64\n",
      "dtypes: float64(2)\n",
      "memory usage: 97.1 KB\n"
     ]
    }
   ],
   "source": [
    "df_new.info()"
   ]
  },
  {
   "cell_type": "code",
   "execution_count": 42,
   "metadata": {},
   "outputs": [
    {
     "data": {
      "text/html": [
       "<div>\n",
       "<style scoped>\n",
       "    .dataframe tbody tr th:only-of-type {\n",
       "        vertical-align: middle;\n",
       "    }\n",
       "\n",
       "    .dataframe tbody tr th {\n",
       "        vertical-align: top;\n",
       "    }\n",
       "\n",
       "    .dataframe thead th {\n",
       "        text-align: right;\n",
       "    }\n",
       "</style>\n",
       "<table border=\"1\" class=\"dataframe\">\n",
       "  <thead>\n",
       "    <tr style=\"text-align: right;\">\n",
       "      <th></th>\n",
       "      <th>HaGiang</th>\n",
       "      <th>CaMau</th>\n",
       "    </tr>\n",
       "    <tr>\n",
       "      <th>TimeVN</th>\n",
       "      <th></th>\n",
       "      <th></th>\n",
       "    </tr>\n",
       "  </thead>\n",
       "  <tbody>\n",
       "    <tr>\n",
       "      <th>2012-12-31</th>\n",
       "      <td>28087.800009</td>\n",
       "      <td>32886.999902</td>\n",
       "    </tr>\n",
       "    <tr>\n",
       "      <th>2013-12-31</th>\n",
       "      <td>64339.800021</td>\n",
       "      <td>76821.999884</td>\n",
       "    </tr>\n",
       "  </tbody>\n",
       "</table>\n",
       "</div>"
      ],
      "text/plain": [
       "                 HaGiang         CaMau\n",
       "TimeVN                                \n",
       "2012-12-31  28087.800009  32886.999902\n",
       "2013-12-31  64339.800021  76821.999884"
      ]
     },
     "execution_count": 42,
     "metadata": {},
     "output_type": "execute_result"
    }
   ],
   "source": [
    "# Tính tổng nhiệt độ theo từng năm\n",
    "yearly = df_new.resample('Y').sum()\n",
    "yearly"
   ]
  },
  {
   "cell_type": "code",
   "execution_count": 43,
   "metadata": {},
   "outputs": [
    {
     "data": {
      "text/plain": [
       "Text(0, 0.5, 'Tổng nhiệt độ')"
      ]
     },
     "execution_count": 43,
     "metadata": {},
     "output_type": "execute_result"
    },
    {
     "data": {
      "image/png": "[encoded data removed]",
      "text/plain": [
       "<Figure size 432x288 with 1 Axes>"
      ]
     },
     "metadata": {
      "needs_background": "light"
     },
     "output_type": "display_data"
    }
   ],
   "source": [
    "# Trực quan hóa biểu đồ\n",
    "yearly.plot(style=[':*', '--o', '-s'], color=['red','green','blue'])\n",
    "plt.xlabel('Năm')\n",
    "plt.ylabel(\"Tổng nhiệt độ\")\n"
   ]
  },
  {
   "cell_type": "code",
   "execution_count": 49,
   "metadata": {},
   "outputs": [
    {
     "data": {
      "text/html": [
       "<div>\n",
       "<style scoped>\n",
       "    .dataframe tbody tr th:only-of-type {\n",
       "        vertical-align: middle;\n",
       "    }\n",
       "\n",
       "    .dataframe tbody tr th {\n",
       "        vertical-align: top;\n",
       "    }\n",
       "\n",
       "    .dataframe thead th {\n",
       "        text-align: right;\n",
       "    }\n",
       "</style>\n",
       "<table border=\"1\" class=\"dataframe\">\n",
       "  <thead>\n",
       "    <tr style=\"text-align: right;\">\n",
       "      <th></th>\n",
       "      <th>HaGiang</th>\n",
       "      <th>CaMau</th>\n",
       "    </tr>\n",
       "    <tr>\n",
       "      <th>TimeVN</th>\n",
       "      <th></th>\n",
       "      <th></th>\n",
       "    </tr>\n",
       "  </thead>\n",
       "  <tbody>\n",
       "    <tr>\n",
       "      <th>2012-08-31</th>\n",
       "      <td>6636.300007</td>\n",
       "      <td>6607.199993</td>\n",
       "    </tr>\n",
       "    <tr>\n",
       "      <th>2012-09-30</th>\n",
       "      <td>5972.399992</td>\n",
       "      <td>6025.499973</td>\n",
       "    </tr>\n",
       "    <tr>\n",
       "      <th>2012-10-31</th>\n",
       "      <td>5966.400000</td>\n",
       "      <td>6751.799979</td>\n",
       "    </tr>\n",
       "    <tr>\n",
       "      <th>2012-11-30</th>\n",
       "      <td>5115.200002</td>\n",
       "      <td>6658.900000</td>\n",
       "    </tr>\n",
       "    <tr>\n",
       "      <th>2012-12-31</th>\n",
       "      <td>4397.500009</td>\n",
       "      <td>6843.599957</td>\n",
       "    </tr>\n",
       "  </tbody>\n",
       "</table>\n",
       "</div>"
      ],
      "text/plain": [
       "                HaGiang        CaMau\n",
       "TimeVN                              \n",
       "2012-08-31  6636.300007  6607.199993\n",
       "2012-09-30  5972.399992  6025.499973\n",
       "2012-10-31  5966.400000  6751.799979\n",
       "2012-11-30  5115.200002  6658.900000\n",
       "2012-12-31  4397.500009  6843.599957"
      ]
     },
     "execution_count": 49,
     "metadata": {},
     "output_type": "execute_result"
    }
   ],
   "source": [
    "# Thống kê nhiệt độ qua từng tháng\n",
    "df_new_2 = df.loc['2012'] # dữ liệu năm 2012\n",
    "data_month = df_new_2.resample('M').sum()\n",
    "data_month\n"
   ]
  },
  {
   "cell_type": "code",
   "execution_count": 50,
   "metadata": {},
   "outputs": [
    {
     "data": {
      "text/plain": [
       "Text(0, 0.5, 'Tổng nhiệt độ theo từng tháng')"
      ]
     },
     "execution_count": 50,
     "metadata": {},
     "output_type": "execute_result"
    },
    {
     "data": {
      "image/png": "[encoded data removed]",
      "text/plain": [
       "<Figure size 432x288 with 1 Axes>"
      ]
     },
     "metadata": {
      "needs_background": "light"
     },
     "output_type": "display_data"
    }
   ],
   "source": [
    "data_month.plot(style=['-', '-', '-'], color=['red','green','blue'])\n",
    "plt.ylabel(\"Tổng nhiệt độ theo từng tháng\")"
   ]
  },
  {
   "cell_type": "code",
   "execution_count": 51,
   "metadata": {},
   "outputs": [],
   "source": [
    "# Nhiệt độ của tháng Thứ 8 trong năm 2012\n",
    "data_day = df_new_2.resample('D').sum()"
   ]
  },
  {
   "cell_type": "code",
   "execution_count": 54,
   "metadata": {},
   "outputs": [
    {
     "data": {
      "text/plain": [
       "Text(0, 0.5, 'Tổng nhiệt độ theo từng ngày')"
      ]
     },
     "execution_count": 54,
     "metadata": {},
     "output_type": "execute_result"
    },
    {
     "data": {
      "image/png": "[encoded data removed]",
      "text/plain": [
       "<Figure size 432x288 with 1 Axes>"
      ]
     },
     "metadata": {
      "needs_background": "light"
     },
     "output_type": "display_data"
    }
   ],
   "source": [
    "data_day.plot(style=['-', '-', '-'], color=['red','green','blue'])\n",
    "plt.ylabel(\"Tổng nhiệt độ theo từng ngày\")"
   ]
  },
  {
   "cell_type": "code",
   "execution_count": 56,
   "metadata": {},
   "outputs": [
    {
     "data": {
      "text/html": [
       "<div>\n",
       "<style scoped>\n",
       "    .dataframe tbody tr th:only-of-type {\n",
       "        vertical-align: middle;\n",
       "    }\n",
       "\n",
       "    .dataframe tbody tr th {\n",
       "        vertical-align: top;\n",
       "    }\n",
       "\n",
       "    .dataframe thead th {\n",
       "        text-align: right;\n",
       "    }\n",
       "</style>\n",
       "<table border=\"1\" class=\"dataframe\">\n",
       "  <thead>\n",
       "    <tr style=\"text-align: right;\">\n",
       "      <th></th>\n",
       "      <th>HaGiang</th>\n",
       "      <th>CaMau</th>\n",
       "    </tr>\n",
       "  </thead>\n",
       "  <tbody>\n",
       "    <tr>\n",
       "      <th>01:00:00</th>\n",
       "      <td>22.022268</td>\n",
       "      <td>26.610396</td>\n",
       "    </tr>\n",
       "    <tr>\n",
       "      <th>04:00:00</th>\n",
       "      <td>21.471594</td>\n",
       "      <td>26.145578</td>\n",
       "    </tr>\n",
       "    <tr>\n",
       "      <th>07:00:00</th>\n",
       "      <td>21.426144</td>\n",
       "      <td>26.430194</td>\n",
       "    </tr>\n",
       "    <tr>\n",
       "      <th>10:00:00</th>\n",
       "      <td>24.211136</td>\n",
       "      <td>29.528656</td>\n",
       "    </tr>\n",
       "    <tr>\n",
       "      <th>13:00:00</th>\n",
       "      <td>26.886850</td>\n",
       "      <td>30.583290</td>\n",
       "    </tr>\n",
       "    <tr>\n",
       "      <th>16:00:00</th>\n",
       "      <td>27.014504</td>\n",
       "      <td>29.727191</td>\n",
       "    </tr>\n",
       "    <tr>\n",
       "      <th>19:00:00</th>\n",
       "      <td>24.347190</td>\n",
       "      <td>27.825103</td>\n",
       "    </tr>\n",
       "    <tr>\n",
       "      <th>22:00:00</th>\n",
       "      <td>22.884136</td>\n",
       "      <td>27.084572</td>\n",
       "    </tr>\n",
       "  </tbody>\n",
       "</table>\n",
       "</div>"
      ],
      "text/plain": [
       "            HaGiang      CaMau\n",
       "01:00:00  22.022268  26.610396\n",
       "04:00:00  21.471594  26.145578\n",
       "07:00:00  21.426144  26.430194\n",
       "10:00:00  24.211136  29.528656\n",
       "13:00:00  26.886850  30.583290\n",
       "16:00:00  27.014504  29.727191\n",
       "19:00:00  24.347190  27.825103\n",
       "22:00:00  22.884136  27.084572"
      ]
     },
     "execution_count": 56,
     "metadata": {},
     "output_type": "execute_result"
    }
   ],
   "source": [
    "# Thống kê nhiệt độ trung bình từng giờ trong dataset\n",
    "by_time = df.groupby(df.index.time).mean()\n",
    "by_time"
   ]
  },
  {
   "cell_type": "code",
   "execution_count": 57,
   "metadata": {},
   "outputs": [
    {
     "data": {
      "text/plain": [
       "<AxesSubplot:xlabel='time'>"
      ]
     },
     "execution_count": 57,
     "metadata": {},
     "output_type": "execute_result"
    },
    {
     "data": {
      "image/png": "[encoded data removed]",
      "text/plain": [
       "<Figure size 432x288 with 1 Axes>"
      ]
     },
     "metadata": {
      "needs_background": "light"
     },
     "output_type": "display_data"
    }
   ],
   "source": [
    "by_time.plot(style=['-', '-', '-'], color=['red','green','blue'])"
   ]
  },
  {
   "cell_type": "code",
   "execution_count": null,
   "metadata": {},
   "outputs": [],
   "source": []
  }
 ],
 "metadata": {
  "kernelspec": {
   "display_name": "Python 3.10.1 64-bit",
   "language": "python",
   "name": "python3"
  },
  "language_info": {
   "codemirror_mode": {
    "name": "ipython",
    "version": 3
   },
   "file_extension": ".py",
   "mimetype": "text/x-python",
   "name": "python",
   "nbconvert_exporter": "python",
   "pygments_lexer": "ipython3",
   "version": "3.10.1"
  },
  "orig_nbformat": 4,
  "vscode": {
   "interpreter": {
    "hash": "26de051ba29f2982a8de78e945f0abaf191376122a1563185a90213a26c5da77"
   }
  }
 },
 "nbformat": 4,
 "nbformat_minor": 2
}
